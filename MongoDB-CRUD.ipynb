{
 "cells": [
  {
   "cell_type": "markdown",
   "metadata": {},
   "source": [
    "# CRUD\n",
    "\n",
    "CRUD (Create, Read, Update, Delete) is an acronym for ways one can operate on stored data."
   ]
  },
  {
   "cell_type": "markdown",
   "metadata": {},
   "source": [
    "## Data Model\n",
    "\n",
    "Some advantages of the MongoDB\n",
    "* It don't require the documents (rows in the SQL) have the same schema \n",
    "  * Thats mean the `fields` don't need to be in all documents for a given collection. \n",
    "  * Also, the `values` don't need to be the same type for all.\n",
    "* In practice, the `documents` in a collection share a similar structure"
   ]
  },
  {
   "cell_type": "markdown",
   "metadata": {},
   "source": [
    "## Documents Structure"
   ]
  },
  {
   "cell_type": "markdown",
   "metadata": {},
   "source": [
    "### Embedded Data (denormalized)\n",
    "\n",
    "```js\n",
    "{ _id: <ObjectId1>,\n",
    "username:\"123xyz\",\n",
    "contact:{\n",
    "    phone:\"+51970854623\",\n",
    "    email:\"soul@soulmail.com\"\n",
    "    },\n",
    "acces: {\n",
    "    level:5,\n",
    "    group:\"dev\"\n",
    "    },\n",
    "workingDays: [\n",
    "    \"Monday\", \"Tuesday\", \"Wednesday\",\"Friday\"\n",
    "]\n",
    "\n",
    "}\n",
    "```\n",
    "\n",
    "Above technically, the field `contact` should be in other collection like `user-contact`, but it is embedded.\n",
    "\n",
    "The advantage of this structure model is a single document can retrive all the data related about a user, or sales, or any entity.\n",
    "\n",
    "This posibility the property of `atomicity`, _all-or-nothing_. In each transaction, if we do some changes, thi change for the user and the related data. This would not happen in the normalized data.\n",
    "\n",
    "> A transaction is a sequence of operations performed on a database as a single logical unit of work.\n",
    "\n",
    "### References (normalized)\n",
    "\n",
    "<span style = \"text-decoration:underline\"> User <span>\n",
    "\n",
    "```js\n",
    "{ _id: <ObjectId1>,\n",
    "username:\"123xyz\"\n",
    "}\n",
    "```\n",
    "\n",
    "<span style = \"text-decoration:underline\"> User-access <span>\n",
    "\n",
    "```js\n",
    "{\n",
    "    _id: <ObjectId4>,\n",
    "    user_id: <ObjectId1>,\n",
    "    level:5,\n",
    "    group:\"dev\"\n",
    "}\n",
    "```\n",
    "\n",
    "<span style = \"text-decoration:underline\"> User-Contact <span>\n",
    "\n",
    "```js\n",
    "{\n",
    "    _id: <ObjectId3>,\n",
    "    user_id: <ObjectId1>,\n",
    "    phone:\"+51970854623\",\n",
    "    email:\"soul@soulmail.com\"\n",
    "    }\n",
    "```\n",
    "<span style = \"text-decoration:underline\"> User-WorkingDays  <span>\n",
    "```js\n",
    "{\n",
    "    _id: <ObjectId2>,\n",
    "    user_id: <ObjectId1>,\n",
    "    [\"Monday\", \"Tuesday\", \"Wednesday\",\"Friday\"\n",
    "]\n",
    "}\n",
    "\n",
    "```\n",
    "\n",
    "All related data are normalized across multiple documents\n"
   ]
  },
  {
   "cell_type": "markdown",
   "metadata": {},
   "source": [
    "### Models with `Pydantic`\n",
    "\n",
    "The models are classes that inherit from `BaseModel`\n",
    "\n",
    "The models are requirements from the some `endpoint` in an API."
   ]
  },
  {
   "cell_type": "markdown",
   "metadata": {},
   "source": [
    "> Pydantic guarantees the types and the constraints of the output model, not the input data.\n",
    "\n",
    "For instance, if we set that a given field, e.g. `age`, and this must be `integer`, the representation of that would be `age:int`. If we passing like values `'15'` (string type) instead a number, then pydantic convert this value into int to  `guarantees` the types of output model.\n",
    "\n",
    "When this the convertion is not success raise error, e.g., if we pass `\"sun\"`, this can't convert to `int`"
   ]
  },
  {
   "cell_type": "code",
   "execution_count": 1,
   "metadata": {},
   "outputs": [],
   "source": []
  },
  {
   "cell_type": "code",
   "execution_count": 85,
   "metadata": {},
   "outputs": [],
   "source": [
    "from pydantic import BaseModel, ValidationError, validator,constr\n",
    "from datetime import datetime\n",
    "from typing import List, Optional, Any, Dict, Float\n",
    "from sqlalchemy import Column, Integer, String"
   ]
  },
  {
   "cell_type": "code",
   "execution_count": 121,
   "metadata": {},
   "outputs": [],
   "source": [
    "# Model for Product\n",
    "class Products(BaseModel):\n",
    "    product_id:int\n",
    "    title_dom:str\n",
    "    brand_dom:str\n",
    "    original_price_dom:float\n",
    "    discount_dom:float=0\n",
    "    main_price_dom:float\n",
    "    lowest_price_dom:float=None\n",
    "    description_dom:str=''"
   ]
  },
  {
   "cell_type": "markdown",
   "metadata": {},
   "source": [
    "Here `Product` is a model that contain 8 fiels, `product_id` which is an integer and is required since don't have a default value like the field `discount_dom`, and aso we can describe the other fields."
   ]
  },
  {
   "cell_type": "code",
   "execution_count": 119,
   "metadata": {},
   "outputs": [],
   "source": [
    "products = Products(\n",
    "    product_id='1001',\n",
    "    title_dom=\"ADILETTE AQUA SLIDES\",\n",
    "    # brand_dom=\"Adidas Company\",\n",
    "    brand_dom=80,\n",
    "    original_price_dom=27,\n",
    "    discount_dom=0,\n",
    "    main_price_dom=19,\n",
    "    description_dom=80\n",
    ")\n"
   ]
  },
  {
   "cell_type": "markdown",
   "metadata": {},
   "source": [
    "`products` is an instance of the model `Product`. We can use the method `.dict()` to see the values of the model.\n",
    "\n",
    "Also the values of the instance can be changed"
   ]
  },
  {
   "cell_type": "code",
   "execution_count": 41,
   "metadata": {},
   "outputs": [
    {
     "data": {
      "text/plain": [
       "{'product_id': 1001,\n",
       " 'title_dom': 'ADILETTE AQUA SLIDES',\n",
       " 'brand_dom': 'Adidas Company',\n",
       " 'original_price_dom': 27.0,\n",
       " 'discount_dom': 0.3,\n",
       " 'main_price_dom': 18.9,\n",
       " 'lowest_price_dom': None,\n",
       " 'description': ''}"
      ]
     },
     "execution_count": 41,
     "metadata": {},
     "output_type": "execute_result"
    }
   ],
   "source": [
    "products.dict()"
   ]
  },
  {
   "cell_type": "code",
   "execution_count": 67,
   "metadata": {},
   "outputs": [],
   "source": [
    "class Stars(BaseModel):\n",
    "    star_1:int=0\n",
    "    star_2:int=0\n",
    "    star_3:int=0\n",
    "    star_4:int=0\n",
    "    star_5:int=0"
   ]
  },
  {
   "cell_type": "code",
   "execution_count": 68,
   "metadata": {},
   "outputs": [],
   "source": [
    "# Sales\n",
    "class Sales(BaseModel):\n",
    "    # The `id` of the transaction \n",
    "    # is generated by a generator\n",
    "    items_dom : List[Products]\n",
    "    date_dom:datetime\n",
    "    seller_id:int\n",
    "    stars: Stars"
   ]
  },
  {
   "cell_type": "markdown",
   "metadata": {},
   "source": [
    "We can use the model inside other model, like above"
   ]
  },
  {
   "cell_type": "code",
   "execution_count": 71,
   "metadata": {},
   "outputs": [],
   "source": [
    "sales = Sales(\n",
    "    items_dom=[Products(\n",
    "        product_id=1001,\n",
    "        title_dom=\"ADILETTE AQUA SLIDES\",\n",
    "        brand_dom=\"Adidas Company\",\n",
    "        original_price_dom=27,\n",
    "        discount_dom=0,\n",
    "        main_price_dom=0.7*27\n",
    "    )],\n",
    "    date_dom=datetime(2020, 8, 19),\n",
    "    seller_id=2020,\n",
    "    stars=Stars()\n",
    ")\n"
   ]
  },
  {
   "cell_type": "code",
   "execution_count": 72,
   "metadata": {},
   "outputs": [
    {
     "data": {
      "text/plain": [
       "{'items_dom': [{'product_id': 1001,\n",
       "   'title_dom': 'ADILETTE AQUA SLIDES',\n",
       "   'brand_dom': 'Adidas Company',\n",
       "   'original_price_dom': 27.0,\n",
       "   'discount_dom': 0.0,\n",
       "   'main_price_dom': 18.9,\n",
       "   'lowest_price_dom': None,\n",
       "   'description_dom': ''}],\n",
       " 'date_dom': datetime.datetime(2020, 8, 19, 0, 0),\n",
       " 'seller_id': 2020,\n",
       " 'stars': {'star_1': 0, 'star_2': 0, 'star_3': 0, 'star_4': 0, 'star_5': 0}}"
      ]
     },
     "execution_count": 72,
     "metadata": {},
     "output_type": "execute_result"
    }
   ],
   "source": [
    "sales.dict()"
   ]
  },
  {
   "cell_type": "markdown",
   "metadata": {},
   "source": [
    "#### ORM Mode (aka Arbitrary Class Instances)"
   ]
  },
  {
   "cell_type": "markdown",
   "metadata": {},
   "source": [
    "1. The Config property `orm_mode` must be set to True.\n",
    "2. The special constructor `from_orm` must be used to create the model instance.\n",
    "\n",
    "More information here\n",
    "https://pydantic-docs.helpmanual.io/usage/models/#orm-mode-aka-arbitrary-class-instances"
   ]
  },
  {
   "cell_type": "markdown",
   "metadata": {},
   "source": [
    "### Handly Error and Custom\n",
    "\n",
    "Here appear the concepts about the `validator`\n"
   ]
  },
  {
   "cell_type": "code",
   "execution_count": 3,
   "metadata": {},
   "outputs": [],
   "source": [
    "from pydantic import BaseModel, ValidationError, validator, PydanticValueError"
   ]
  },
  {
   "cell_type": "code",
   "execution_count": 27,
   "metadata": {},
   "outputs": [],
   "source": [
    "class DoNotExistCompany(PydanticValueError):\n",
    "    code = \"dont_belong_to_company\"\n",
    "    msg_template= 'the company should belong to our database, got \"{wrong_value}\"'\n",
    "\n",
    "class Sellers(BaseModel):\n",
    "    seller_id:int\n",
    "    seller_name_dom:str\n",
    "    \n",
    "    @validator('seller_name_dom')\n",
    "    def value_must_by_str(cls, v):\n",
    "        v = v.title()\n",
    "        if v not in ['Inversiones Fabris S.A.', 'Negocios La Leña S.A.C']:\n",
    "            raise DoNotExistCompany(wrong_value=v)\n",
    "        return v"
   ]
  },
  {
   "cell_type": "markdown",
   "metadata": {},
   "source": [
    "Here we validate if the the name of the seller is in a list. For a better validation, we can pass the vlaidation with the our database of the our sellers"
   ]
  },
  {
   "cell_type": "code",
   "execution_count": 28,
   "metadata": {},
   "outputs": [],
   "source": [
    "seller = Sellers(\n",
    "    seller_id=40,\n",
    "    seller_name_dom='Negocios la leña s.a.c'\n",
    ")"
   ]
  },
  {
   "cell_type": "markdown",
   "metadata": {},
   "source": [
    "### Helper Functions"
   ]
  },
  {
   "cell_type": "markdown",
   "metadata": {},
   "source": [
    "* `parse_obj`: pass a `dict`.\n",
    "* `parse_raw`: `str` or `bytes` that the shape of a dict.\n",
    "* `parse_file`: take the path of the file."
   ]
  },
  {
   "cell_type": "code",
   "execution_count": 32,
   "metadata": {},
   "outputs": [],
   "source": [
    "seller = Sellers.parse_obj(\n",
    "    {'seller_id': 40, \n",
    "    'seller_name_dom': 'Negocios la leña s.a.c'}\n",
    ")"
   ]
  },
  {
   "cell_type": "code",
   "execution_count": 36,
   "metadata": {},
   "outputs": [],
   "source": [
    "seller = Sellers.parse_raw('{\"seller_id\": 40, \"seller_name_dom\": \"Negocios la leña s.a.c\"}'\n",
    "                           )"
   ]
  },
  {
   "cell_type": "code",
   "execution_count": 40,
   "metadata": {},
   "outputs": [
    {
     "name": "stdout",
     "output_type": "stream",
     "text": [
      "seller_id=40 seller_name_dom='Negocios La Leña S.A.C'\n"
     ]
    }
   ],
   "source": [
    "from codecs import unicode_escape_encode\n",
    "from pathlib import Path\n",
    "\n",
    "path = Path('data.json')\n",
    "path.write_text('{\"seller_id\": 40, \"seller_name_dom\": \"Negocios la leña s.a.c\"}',encoding='utf-8')\n",
    "m = Sellers.parse_file(path)\n",
    "print(m)"
   ]
  }
 ],
 "metadata": {
  "kernelspec": {
   "display_name": "Python 3.9.7 ('base')",
   "language": "python",
   "name": "python3"
  },
  "language_info": {
   "codemirror_mode": {
    "name": "ipython",
    "version": 3
   },
   "file_extension": ".py",
   "mimetype": "text/x-python",
   "name": "python",
   "nbconvert_exporter": "python",
   "pygments_lexer": "ipython3",
   "version": "3.9.7"
  },
  "orig_nbformat": 4,
  "vscode": {
   "interpreter": {
    "hash": "7679c2132d3f6ce38c9df14d554b39c06862b36a4e6689c81f9ae15bd0911d7d"
   }
  }
 },
 "nbformat": 4,
 "nbformat_minor": 2
}
