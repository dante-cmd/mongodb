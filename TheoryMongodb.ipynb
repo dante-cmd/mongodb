{
 "cells": [
  {
   "cell_type": "markdown",
   "metadata": {},
   "source": [
    "## Installation"
   ]
  },
  {
   "cell_type": "markdown",
   "metadata": {},
   "source": [
    "1. Donwload from here: [Mongodb](https://www.mongodb.com/try/download/community)\n",
    "2. In the panel of Enviroment Variables add at path the root where is mongod.exe. In my case `C:\\Program Files\\MongoDB\\Server\\5.0\\bin`"
   ]
  },
  {
   "cell_type": "markdown",
   "metadata": {},
   "source": [
    "### Open\n",
    "* Open `cmd or powershell` and type `mongod`.\n",
    "  * `mongod` is th primary process for the MongoDB systems. It handle data request, manages data acces, and so on. \n",
    "* Open ``Mongo Compas``\n",
    "  * `Mongo Compas` is the GUI for the MongoDB. It allow make queries, analying the data, in MongoBD.\n",
    "  *  It came with MongoDB Shell called `Mongosh`"
   ]
  },
  {
   "cell_type": "markdown",
   "metadata": {},
   "source": [
    "# Database Magnament System\n",
    "\n",
    "* A database is a platform to store data in a way that is secure, reliable, and easily available. There are two types of databases used in general: relational databases and non-relational databases. Non-relational databases are often called as NoSQL\n",
    "databases. \n",
    "\n",
    "* A NoSQL database is used to store large quantities of complex and diverse data, such as product catalogs, logs, user interactions, analytics, and more.\n",
    "\n",
    "* MongoDB is one of the most established NoSQL databases, with features such as data aggregation, ACID (Atomicity, Consistency, Isolation, Durability) transactions, horizontal scaling, and Charts.\n",
    "\n",
    "* MongoDB is available for anyone to install on their own machine(s) or to be used on the cloud as a managed service. MongoDB's cloud-managed service (called Atlas) is available to everyone for free, whether you are an established enterprise or a student.\n",
    "\n"
   ]
  },
  {
   "cell_type": "markdown",
   "metadata": {},
   "source": [
    "A Database Management System (DBMS) provides the ability to store and retrieve data. It uses query languages to create, update, delete, and retrieve data. (CRUD operations) \n",
    "\n",
    "* Relational Database Management Systems (RDBMS) are used to store structured data. The data is stored in the form of tables that consist of rows and columns. The tables can have relationships with other tables to depict the actual data relationships.\n",
    "\n",
    "* NoSQL databases were invented to solve the problem of storing unstructured and semi-structured data. NoSQL databases allow you to store the data without a schema. Data is stored in NoSQL is stored as documents instead of tables. An example of this would be databases for inventory management, where different products can have different attributes and, therefore, require a flexible structure.\n"
   ]
  },
  {
   "cell_type": "markdown",
   "metadata": {},
   "source": [
    "<div align =\"center\">\n",
    "  <img src = \"comparation_nosql_sql.png\" height=\"400\"\\>\n",
    "</div>"
   ]
  },
  {
   "cell_type": "markdown",
   "metadata": {},
   "source": [
    "# Intro Mongo"
   ]
  },
  {
   "cell_type": "markdown",
   "metadata": {},
   "source": [
    "In the real life the data of an user (customer) is complex, part of this data fit at tabular, if this happen, we can use a `relational database management system (RDBMS)` and the concept of tables, schemas, and the `SQL` language.\n",
    "\n",
    "The remaining data, that don't fint at tabular, we can use `no relational database management system`, one sofware that can handle no relational database is `Mongodb`.\n",
    "\n",
    "So, for *transactions* is better to work with RDBMS."
   ]
  },
  {
   "cell_type": "markdown",
   "metadata": {},
   "source": [
    "> MongoDB Philosophy:  one size does not fit all. "
   ]
  },
  {
   "cell_type": "markdown",
   "metadata": {},
   "source": [
    "* Flexible and Dynamic Schema: MongoDB allows a flexible schema for your database. A flexible schema allows variance in fields in different documents. In simple terms, each record in the database may or may not have the same number of attributes. It addresses the need for storing\n",
    "evolving data without making any changes to the schema itself.\n",
    "\n",
    "* Rich Query Language: MongoDB comes with a rich aggregation framework that allows you to group and filter data as required. It also has built-in support for general-purpose text search and specific purposes like geospatial searches.\n",
    "\n",
    "* Multi-Document ACID Transactions: Atomicity, Consistency, Integrity, and Durability (ACID) are features that allow your data to be stored and updated to maintain its accuracy.\n",
    "\n",
    "* Atomicity means all or nothing, which means either all operations are a part of a transaction as it happens or none of them are. This means that if one of\n",
    "the operations fails, then all the executed operations are rolled back to leave the data affected by transaction operation in the state it was in before the transaction started.\n",
    "\n",
    "* Consistency in a transaction means keeping the data consistent as per the rules defined for the database.\n",
    "\n",
    "* Isolation enforces running transactions in isolation\n",
    "\n",
    "* High Performance: MongoDB provides high performance using embedded data models to reduce disk I/O usage.\n",
    "\n",
    "* High Availability: MongoDB supports distributed clusters with a minimum of three nodes. A cluster refers to a database deployment that uses multiple nodes/machines for data storage and retrieval. \n",
    "\n",
    "* Scalability: MongoDB provides a way to scale your databases horizontally across hundreds of nodes."
   ]
  },
  {
   "cell_type": "markdown",
   "metadata": {},
   "source": [
    "# The MongoDB Deployment Model\n",
    "We can install MongoDB on a single machine or a cluster of machines. Multiple machine installation provides high availability and scalability. \n",
    "\n",
    "* **Standalone** installation is a single-machine installation and is meant mainly for development or experimental purposes\n",
    "\n",
    "* A **replica set** in MongoDB is a group of processes or servers that work together to\n",
    "provide data redundancy and high availability. Using a replica set solves the problems (like connectivity issues and disk failures) as the data copies are stored on multiple servers.\n",
    "\n",
    "* **Sharded** deployments allow you to store the data in a distributed way. They are required for applications that manage massive data and expect high throughput. A shard contains a subset of the data, and each shard must use a replica set to provide redundancy of the data that it holds. "
   ]
  },
  {
   "cell_type": "markdown",
   "metadata": {},
   "source": [
    "MongoDB provides the user with two options\n",
    "\n",
    "We can either install it on your system and manage the database ourselves or utilize the\n",
    "Database as a Service (**DBaaS**) option offered by MongoDB (Atlas)"
   ]
  },
  {
   "cell_type": "markdown",
   "metadata": {},
   "source": [
    "## Managed Service: Database as a Service\n",
    "\n",
    "A managed service is the concept of outsourcing some processes, functions, or deployments to a vendor. DBaaS is a term generally used for databases outsourced to an external vendor. A managed service enforces a shared responsibility model.\n",
    "\n",
    "The provider of the service manages the infrastructure, that is, the installation,deployment, failover, scalability, disk space, monitoring, and so on. You can manage the data and the settings for security, performance, and tuning. It allows you to save time managing databases and focus on other things, such as\n",
    "application development"
   ]
  },
  {
   "cell_type": "markdown",
   "metadata": {},
   "source": [
    "# MongoDB Atlas\n",
    "\n",
    "MongoDB Atlas is the DBaaS offering from MongoDB Inc. It allows you to provision a database on the cloud as a service, which can be used for your applications from anywhere. "
   ]
  },
  {
   "cell_type": "markdown",
   "metadata": {},
   "source": [
    "### MongoDB Atlas Benefits\n",
    "\n",
    "* Simple Setup\n",
    "* *Guaranteed Availability*: Atlas deploys at least three data nodes or servers per replica set. Each node is deployed in a separate availability zone (Amazon Web Services (AWS)), fault domains (Microsoft Azure), or zones (Google Cloud Platform (GCP)). \n",
    "* *Global Presence*: MongoDB Atlas is available across different regions in the AWS, GCP, and Microsoft Azure clouds. The support for different regions allows you to pick a region closer to you for low latency read and write.\n",
    "* *Highly Secured*\n",
    "* *Automated Backups*\n"
   ]
  },
  {
   "cell_type": "markdown",
   "metadata": {},
   "source": [
    "#### Atlas tier\n",
    "\n",
    "* A *tier is* a level of database power that you get from your cluster. DB in Atlas is `RAM` + `storage`\n",
    "* If $\\uparrow$ RAM and storage , then $\\uparrow$ cost\n",
    "* M0 is the free tier available in MongoDB Atlas, which gives you shared RAM with storage of 512 MB"
   ]
  },
  {
   "cell_type": "markdown",
   "metadata": {},
   "source": [
    "#### Organizations\n",
    "It contains other elements such as projects, clusters, and users"
   ]
  },
  {
   "cell_type": "markdown",
   "metadata": {},
   "source": [
    "#### Projects\n",
    "A project provides a grouping of clusters and users for a specific purpose; for\n",
    "example, you would like to segregate your lab, demo, and production\n",
    "environments."
   ]
  },
  {
   "cell_type": "markdown",
   "metadata": {},
   "source": [
    "#### Cluster or Database\n",
    "A cluster is a distributed set of servers used for\n",
    "data storage and retrieval. A MongoDB cluster, at the minimum level, is a threenode replica set"
   ]
  },
  {
   "cell_type": "code",
   "execution_count": null,
   "metadata": {},
   "outputs": [],
   "source": []
  },
  {
   "cell_type": "markdown",
   "metadata": {},
   "source": [
    "MongoDB is a `document-oriented database`.\n",
    "* MongoDB is a database that worked with documents in a way fast, massively `scalable`  (the property of a system to handle a growing amount of work by adding resources to the system .[wikipedia](https://en.wikipedia.org/wiki/Scalability)). \n",
    "    * This scalability can be done since the database does not include transactional semantics (the element that offers guarantees about data consistency and storage). \n",
    "    * The scalability is horizontal. With horizontal scaling, rather than having one big machine, you have lots of less powerful small machines. So, the power increase.\n",
    "* MongoDB need that the database have a copy in order to restores when the database fail."
   ]
  },
  {
   "cell_type": "markdown",
   "metadata": {},
   "source": [
    "## JSON and MongoDB"
   ]
  },
  {
   "cell_type": "markdown",
   "metadata": {},
   "source": [
    "This is an example of JSON (JavaScript Object Notation) file\n",
    "```json\n",
    "{\"name_book\":\"The king of Him\",\n",
    "\"price\": 25,\n",
    "\"currency\": \"dollar\",\n",
    "\"countries_available\": [\"Peru\", \"United States\"]}\n",
    "```\n",
    "JSON effectively describes all the content in a given document.\n",
    "\n",
    "MongoDB use a binary JSON to store the data. This is called `document` in MongoDB, obvioulsy, is schemeless (don't need a schema). because documents can be updated individually or changed independently of any other documents. "
   ]
  },
  {
   "cell_type": "markdown",
   "metadata": {},
   "source": [
    "`CSV` files are only good for storing data that are flat and don’t have repeating values. For complex data `Json`\n",
    "\n",
    "```json\n",
    "{\n",
    "\"firstname\": \"Peter\",\n",
    "\"lastname\": \"Membrey\",\n",
    "\"numbers\": [{\n",
    "    \"phone\": \"+852 1234 5678\"\n",
    "    },\n",
    "    {\n",
    "        \"fax\": \"+44 1234 565 555\"\n",
    "        }]\n",
    "        }\n",
    "```\n",
    "As we can see, `JSON` is extremely expressive"
   ]
  },
  {
   "cell_type": "markdown",
   "metadata": {},
   "source": [
    "Althougt, MongoDB is schemaless database, the documents must have a `schema desing` in order to access at the information about we stored.\n",
    "\n",
    "When we add complex content such as a list in a document, this document is called `embedded document`."
   ]
  },
  {
   "cell_type": "markdown",
   "metadata": {},
   "source": [
    "**Adopting a Nonrelational Approach** \n",
    "\n",
    "The horizonal scalability is so hard for *RDBMS*, they need to have all data to perform the queries. \n",
    "\n",
    "Due to MondoDB stores documents that are independent. Individual documents aren’t made up of *relationships* and when the query is performming what in actually is looking for is key-value pair that can spread in several servers. So MongoDB can perform horizonal scalability, this feature is called `sharding`. \n",
    "\n",
    "But sometimes, we don't need all cluster stored the data. MongoBD can back to before of the scalabitity. That is, MongoDB is `elastic` \n",
    "\n"
   ]
  },
  {
   "cell_type": "markdown",
   "metadata": {},
   "source": [
    "**Opting for Performance vs. Features**\n",
    "\n",
    "MongoDB is itself feature-rich. To be useful, MongoDB must offer a strong set of features, such as the ability to search for specific documents. It must also be able to store those documents on disk, so they can survive a reboot. Fortunately, MongoDB provides enough features to be a strong contender for most web applications and many other types of applications as well."
   ]
  },
  {
   "cell_type": "markdown",
   "metadata": {},
   "source": [
    "**Running the Database Anywhere**\n",
    "\n",
    "MongoDB is written in C++, which makes it relatively easy to port or run the application practically anywhere. (Linux, Mac OS, Windows,)"
   ]
  },
  {
   "cell_type": "markdown",
   "metadata": {},
   "source": [
    "**Generating or Creating a Key**\n",
    "\n",
    "A document represents the unit of storage in MongoDB. In an RDBMS, this would be called a row. However, documents are much more than rows because they can store complex information such as lists, dictionaries, and even lists of dictionaries.\n",
    "\n",
    "A `key` is nothing more than a label; it is roughly equivalent to the name you might give to a column in an RDBMS. You use a key to reference pieces of data inside your document.\n",
    "\n",
    "MongoDB requires that each document have a unique identifier. `\"_id\"`, MongoDB will generate a unique value for us if we don't specify. The format is an ObjectId 12 bytes.\n",
    "\n",
    "**Using Keys and Values**\n",
    "\n",
    "Documents are made up of keys and values.\n",
    "\n",
    "MongoDB does not require every document to have the same fields, or that every field with the same name has the same type of value.\n",
    "\n",
    "If the key/value pair isn’t included in a MongoDB document, it is assumed not to exist.\n",
    "\n",
    "**Implementing Collections**\n",
    "\n",
    "Collections are somewhat analogous to tables. A collection is like a box with a label on it. the items of a collection must have similar.\n",
    "\n",
    "Collections are usually created on demand"
   ]
  },
  {
   "cell_type": "markdown",
   "metadata": {},
   "source": [
    "the easiest way to think of a database in MongoDB is as a group of collections"
   ]
  },
  {
   "cell_type": "markdown",
   "metadata": {},
   "source": [
    "# The Data Model"
   ]
  },
  {
   "cell_type": "markdown",
   "metadata": {},
   "source": [
    "## Designing the Database"
   ]
  },
  {
   "cell_type": "markdown",
   "metadata": {},
   "source": [
    "One of the benefits of this flexible schemaless design is that you won’t be restricted when programming in a dynamically typed language such as Python or PHP"
   ]
  },
  {
   "cell_type": "markdown",
   "metadata": {},
   "source": [
    "```js\n",
    "[\n",
    "  {\n",
    "    Type: \"CD\",\n",
    "    Artist: \"Nirvana\",\n",
    "    Title: \"Nevermind\",\n",
    "    Genre: \"Grunge\",\n",
    "    Releasedate: \"1991.09.24\",\n",
    "    Tracklist: [\n",
    "      { Track: \"1\", Title: \"Smells Like Teen Spirit\", Length: \"5:02\" },\n",
    "      { Track: \"2\", Title: \"In Bloom\", Length: \"4:15\" },\n",
    "    ],\n",
    "  },\n",
    "\n",
    "  {\n",
    "    type: \"Book\",\n",
    "    Title:\n",
    "      \"Definitive Guide to MongoDB: A complete guide to dealing with Big Data using MongoDB 3rd ed., The\",\n",
    "    ISBN: \"978-1-4842-1183-0\",\n",
    "    Publisher: \"Apress\",\n",
    "    Author: [\"Hows, David\", \"Plugge, Eelco\", \"Membrey, Peter\", \"Hawkins, Tim\"],\n",
    "  },\n",
    "];\n",
    "```\n"
   ]
  },
  {
   "cell_type": "markdown",
   "metadata": {},
   "source": [
    "A collection is as a container that stores your documents."
   ]
  },
  {
   "cell_type": "code",
   "execution_count": 8,
   "metadata": {},
   "outputs": [
    {
     "data": {
      "image/png": "[encoded data removed]",
      "text/plain": [
       "<IPython.core.display.Image object>"
      ]
     },
     "execution_count": 8,
     "metadata": {},
     "output_type": "execute_result"
    }
   ],
   "source": [
    "from IPython.display import Image\n",
    "Image('mongo_01.png')"
   ]
  },
  {
   "cell_type": "markdown",
   "metadata": {},
   "source": [
    "There are several types of collections in MongoDB. One of them is capped collections.\n",
    "\n",
    "Every collection in MongoDB has a unique name. At the begining the or letter or _ is recommended. $ is not permited neither empty name \"\" and the name system. The consence is around 9 characters."
   ]
  },
  {
   "cell_type": "markdown",
   "metadata": {},
   "source": [
    "Each database can have up to 12,000 collections by default."
   ]
  },
  {
   "cell_type": "markdown",
   "metadata": {},
   "source": [
    "## Using Documents\n",
    "\n",
    "* Recall that a document consists of key-value pairs.\n",
    "* Keys are written as strings, but the values in them can vary tremendously.\n",
    "* Remember: MongoDB stores its data in BSON format."
   ]
  },
  {
   "cell_type": "markdown",
   "metadata": {},
   "source": [
    "All of the possible types of data we can add to a document:\n",
    "1. String: This commonly used datatype contains a string of text.\n",
    "2. Integer (32-bit and 64-bit): This type is used to store a numerical value \n",
    "3. Boolean: This datatype can be set to either TRUE or FALSE\n",
    "4. Double: This datatype is used to store floating-point values\n",
    "5. Arrays: This datatype is used to store arrays (is like a list).\n",
    "6. Timestamp: This datatype is used to store a timestamp.\n",
    "7. Object: This datatype is used for embedded documents\n",
    "8. Null: This datatype is used for a Null value.\n",
    "9. Date: This datatype is used to store the current date.\n",
    "10. Object ID: This datatype is used to store the document’s ID\n",
    "11. Binary data: This datatype is used to store binary data.\n",
    "12. Regular expression: This datatype is used for regular expressions\n",
    "13. JavaScript code: This datatype is used for JavaScript code."
   ]
  },
  {
   "cell_type": "markdown",
   "metadata": {},
   "source": [
    "* String\n",
    "\n",
    "    ```mongodb\n",
    "    { \"name\" : \"Tom Walter\", \"number_txt\" : \"112.1\" ,\"random_txt\" : \"a ! *& ) ( f s f @#$ s\", \n",
    "    \"date_txt\" : \"1929-12-31\"}\n",
    "    ```\n",
    "* Numbers - can be implicit or explicit\n",
    "  * double: 64-bit floating point\n",
    "  * int: 32-bit signed integer\n",
    "  * long: 64-bit unsigned integer\n",
    "  * decimal: 128-bit floating point – which is IEE 754-compliant\n",
    "\n",
    "  ```mongodb\n",
    "  var plainNun = 1289\n",
    "  var explicitInt = NumberInt(\"1289\")\n",
    "  var explicitInt_double = NumberInt(1289) \n",
    "  var explicitInt_long = Numberlong(\"887654832\")\n",
    "  var explicitDec = NumberDecimal(\"12.89\")\n",
    "  ```\n",
    "* booleans \n",
    "  ```mongodb\n",
    "  {\"isMongoDBHard\": false}\n",
    "  ```\n",
    "* Objects\n",
    "  It's used to represent nested documents.\n",
    "  ```mongodb\n",
    "  var listing = {\n",
    "    \"listing_url\":\"https://www.airbnb.com/rooms/1001265\",\n",
    "    \"name\": \"Ocean View Waikiki Marina w/prkg\",\n",
    "    \"summary\": \"A great location that work perfectly for business, education, or simple visit.\",\n",
    "    \"host\":{\n",
    "      \"host_id\": \"5448114\",\n",
    "      \"host_name\": \"David\",\n",
    "      \"host_location\": \"Honolulu, Hawaii, United States\"\n",
    "      }\n",
    "      }\n",
    "  listing.host  \n",
    "\n",
    "```"
   ]
  },
  {
   "cell_type": "markdown",
   "metadata": {},
   "source": [
    "Web page to validate json : https://jsonlint.com/"
   ]
  },
  {
   "cell_type": "markdown",
   "metadata": {},
   "source": [
    "* Arrays - called list as well. This is orderned by index\n",
    "     \n",
    "     ```mongodb\n",
    "     var docu = {\"names\" :[\"Sofia\", \"Pato\", \"Lucy\"]}\n",
    "     docu[\"names\"][0]\n",
    "     // add a value in an array\n",
    "     docu[\"names\"][3] = \"Andrea\"\n",
    "     var docu_numbers = {\"my_number\" : [10, 2, 20]}\n",
    "     var docu_json = {\"my_json\" : [{\"Soul\":\"You\"}, {\"Feel\":\"Me\"}]}\n",
    "     //  array of mixed elements\n",
    "     var docu_mix = {\"my_mix\" : [ 12, \"text\", 4.35, [ 3, 2 ], { \"type\" : \"object\" } ]}\n",
    "     \n",
    "     ```\n",
    "     \n",
    "* Null : Null is a special data type in a document and denotes a field that does not contain a value.\n",
    "\n",
    "     ```mongodb\n",
    "     var obj = null\n",
    "     obj + 80 \n",
    "     // return 80\n",
    "     ```\n"
   ]
  },
  {
   "cell_type": "markdown",
   "metadata": {},
   "source": [
    "* Object_id\n",
    "\n",
    "    Every object within the MongoDB database contains a unique identifier to distinguish that object from every other object. This identifier is called the _id key, and it is added automatically to every document you create in a collection if not assing at `_id` some value.\n",
    "    \n",
    "    The type will be set to a special `ObjectId` BSON datatype that consists of a 12-byte binary value. \n",
    "\n",
    "    The 12-byte value consists of a 4-byte timestamp, 3-byte machine ID, a 2-byte process ID, and a 3-byte counter.\n",
    "    ```mongodb\n",
    "    var uniqueID = new ObjectId()\n",
    "    // create a new id\n",
    "    uniqueID.getTimestamp()\n",
    "    // to get the time     \n",
    "\n",
    "\n",
    "    ```\n",
    "* Date \n",
    "\n",
    "    One thing to note is\n",
    "    that all dates are stored in UTC, and there is no time zone associated with them.\n",
    "    ```mongodb\n",
    "    var date_old =  Date(\"Jan 7, 2003\")\n",
    "    // only wec an use Date function to create a date from string\n",
    "    var date_med = new ISODate(\"2016-01-01\")\n",
    "    var date_medhour = new ISODate(\"2016-01-01T10:08:30\")\n",
    "    var date_new = new ISODate()\n",
    "    ```\n",
    "* Binary Data\n",
    "\n",
    "    Is a BSON data type for storing data that exists in a binary format. This data type gives you the ability to store almost anything in the database\n",
    "    ```mongodb\n",
    "    { \"name\" : \"my_txt\", \n",
    "    \"extension\" : \"txt\", \n",
    "    \"content\" : BinData(0, \"VGhpcyBpcyBhIHNpbXBsZSB0ZXh0IGZpbGUu\")\n",
    "    }\n",
    "    ```"
   ]
  },
  {
   "cell_type": "markdown",
   "metadata": {},
   "source": [
    "> The rule of thumb when using MongoDB is to embed data whenever you can. this approach is far more efficient and almost always viable"
   ]
  },
  {
   "cell_type": "code",
   "execution_count": 9,
   "metadata": {},
   "outputs": [
    {
     "data": {
      "image/png": "[encoded data removed]",
      "text/plain": [
       "<IPython.core.display.Image object>"
      ]
     },
     "execution_count": 9,
     "metadata": {},
     "output_type": "execute_result"
    }
   ],
   "source": [
    "from IPython.display import Image\n",
    "Image('mongo_02.png')"
   ]
  },
  {
   "cell_type": "markdown",
   "metadata": {},
   "source": [
    "We can use `ObjectId(string)` to create id value, where string represents the specified hex string."
   ]
  },
  {
   "cell_type": "markdown",
   "metadata": {},
   "source": [
    "> In mathematics and computing, the hexadecimal (also base 16 or simply hex) numeral system is a positional numeral system that represents numbers using a radix (base) of 16. Unlike the decimal system representing numbers using 10 symbols, hexadecimal uses 16 distinct symbols, most often the symbols \"0\"–\"9\" to represent values 0 to 9, and \"A\"–\"F\" (or alternatively \"a\"–\"f\") to represent values from 10 to 15. [wikipedia](https://en.wikipedia.org/wiki/Hexadecimal)"
   ]
  },
  {
   "cell_type": "markdown",
   "metadata": {},
   "source": [
    "MongoDB includes extensive support for indexing your documents, a feature that really comes in handy when you’re dealing with tens of thousands of documents. Without an index, MongoDB will have to look at each individual document in turn to see whether it is something that you want to see"
   ]
  },
  {
   "cell_type": "markdown",
   "metadata": {},
   "source": [
    "The general rule of thumb in MongoDB is that you should create an index for the same sort of scenarios where you would want to have an index in relational databases.\n",
    "\n",
    "The biggest benefit of creating your own indexes is that querying for often-used information will be\n",
    "incredibly fast because your query won’t need to go through your entire database to collect this information."
   ]
  },
  {
   "cell_type": "markdown",
   "metadata": {},
   "source": [
    "``` mongodb\n",
    "db.collection.getIndexes()\n",
    "```"
   ]
  },
  {
   "cell_type": "markdown",
   "metadata": {},
   "source": [
    "## Limits and Restrictions on Documents\n",
    "\n",
    "* Document Size Limit:\n",
    "\n",
    "    A document with too much information is bad in many ways. For this reason, MongoDB puts a limit of 16 MB on the size of every document in the collection. The limit of 16 MB is enough to store the right information. A collection can have as many documents as you want. There is no limitation on the size of a collection.\n",
    "\n",
    "* Nesting Depth Limit:\n",
    "    \n",
    "    A MongoDB BSON document supports nesting up to 100 levels, which is more than enough\n",
    "\n",
    "    "
   ]
  },
  {
   "cell_type": "markdown",
   "metadata": {},
   "source": [
    "## Implementing Geospatial Indexing"
   ]
  },
  {
   "cell_type": "markdown",
   "metadata": {},
   "source": [
    "MongoDB also supports geospatial indexes that are designed to work in an optimal way with location-based queries.\n",
    "\n",
    "We might further refine your search to query for a specified number of restaurants near the current location."
   ]
  },
  {
   "cell_type": "markdown",
   "metadata": {},
   "source": [
    "The schema or format of the *document* must be the defined by [GeoJson](https://geojson.org/)\n",
    "\n",
    "```\n",
    "{\n",
    "  \"type\": \"Feature\",\n",
    "  \"geometry\": {\n",
    "    \"type\": \"Point\",\n",
    "    \"coordinates\": [125.6, 10.1]\n",
    "  },\n",
    "  \"properties\": {\n",
    "    \"name\": \"Dinagat Islands\"\n",
    "  }\n",
    "}\n",
    "```\n"
   ]
  },
  {
   "cell_type": "markdown",
   "metadata": {},
   "source": [
    "A real example:"
   ]
  },
  {
   "cell_type": "markdown",
   "metadata": {},
   "source": [
    "```json\n",
    "{\n",
    "  type: \"FeatureCollection\",\n",
    "  features: {\n",
    "    type: \"Feature\",\n",
    "    properties: {\n",
    "      name: \"United Kingdom\",\n",
    "      continent: \"Europe\",\n",
    "      subregion: \"Northern Europe\",\n",
    "      geometry: {\n",
    "        type: \"MultiPolygon\",\n",
    "        coordinates: [\n",
    "          [\n",
    "            [\n",
    "              [-5.661948614921897, 54.554603176483852],\n",
    "              [-6.197884894220977, 53.867565009163343],\n",
    "              [-6.953730231137996, 54.073702297575636],\n",
    "              [-7.572167934591079, 54.059956366585993],\n",
    "              [-7.366030646178785, 54.595840969452695],\n",
    "              [-7.572167934591079, 55.131622219454897],\n",
    "              [-6.733847011736145, 55.172860012423797],\n",
    "              [-5.661948614921897, 54.554603176483852],\n",
    "            ],\n",
    "          ],\n",
    "          [\n",
    "            [\n",
    "              [-3.005004848635281, 58.635000108466329],\n",
    "              [-4.073828497728016, 57.553024807355257],\n",
    "              [-3.055001796877661, 57.69001902936094],\n",
    "              [-1.959280564776918, 57.684799709699519],\n",
    "              [-2.219988165689301, 56.870017401753529],\n",
    "              [-3.119003058271119, 55.973793036515474],\n",
    "              [-2.085009324543023, 55.909998480851272],\n",
    "              [-2.005675679673857, 55.804902850350231],\n",
    "              [-1.11499101399221, 54.624986477265395],\n",
    "              [-0.4304849918542, 54.464376125702159],\n",
    "              [0.184981316742039, 53.325014146531032],\n",
    "              [0.469976840831777, 52.929999498091973],\n",
    "              [1.681530795914739, 52.739520168664001],\n",
    "              [1.559987827164377, 52.099998480836007],\n",
    "              [1.050561557630914, 51.806760565795685],\n",
    "              [1.449865349950301, 51.289427802121963],\n",
    "              [0.550333693045502, 50.765738837275876],\n",
    "              [-0.78751746255864, 50.77498891865622],\n",
    "              [-2.489997524414377, 50.500018622431242],\n",
    "              [-2.956273972984036, 50.696879991247016],\n",
    "              [-3.617448085942328, 50.228355617872722],\n",
    "              [-4.542507900399244, 50.341837063185665],\n",
    "              [-5.245023159191135, 49.959999904981089],\n",
    "              [-5.776566941745301, 50.159677639356829],\n",
    "              [-4.309989793301838, 51.210001125689161],\n",
    "              [-3.414850633142123, 51.42600861266925],\n",
    "              [-3.422719467108323, 51.426848167406092],\n",
    "              [-4.984367234710874, 51.593466091510976],\n",
    "              [-5.267295701508885, 51.991400458374585],\n",
    "              [-4.222346564134853, 52.301355699261364],\n",
    "              [-4.770013393564113, 52.840004991255626],\n",
    "              [-4.579999152026915, 53.495003770555172],\n",
    "              [-3.093830673788659, 53.404547400669685],\n",
    "              [-3.092079637047107, 53.404440822963551],\n",
    "              [-2.945008510744344, 53.984999701546684],\n",
    "              [-3.614700825433033, 54.600936773292574],\n",
    "              [-3.630005458989331, 54.615012925833014],\n",
    "              [-4.844169073903004, 54.790971177786844],\n",
    "              [-5.082526617849226, 55.061600653699372],\n",
    "              [-4.719112107756644, 55.508472601943481],\n",
    "              [-5.047980922862109, 55.78398550070753],\n",
    "              [-5.58639767091114, 55.311146145236819],\n",
    "              [-5.644998745130181, 56.275014960344805],\n",
    "              [-6.149980841486354, 56.785009670633542],\n",
    "              [-5.786824713555291, 57.818848375064647],\n",
    "              [-5.009998745127575, 58.630013332750053],\n",
    "              [-4.211494513353557, 58.550845038479167],\n",
    "              [-3.005004848635281, 58.635000108466329],\n",
    "            ],\n",
    "          ],\n",
    "        ],\n",
    "      },\n",
    "    },\n",
    "  },\n",
    "};\n",
    "```"
   ]
  },
  {
   "cell_type": "markdown",
   "metadata": {},
   "source": [
    "The `type geometry` can be a `Point`, a `MultiPoint`, a `LineString`, a `MultiLineString`, a `Polygon`, a `MultiPolygon`, or a\n",
    "`GeometryCollection`.\n",
    "\n",
    "* The `Point` type is used to specify that the item is located at exactly the spot given, thus requiring exactly two values, the longitude and latitude. In this order.\n",
    "* The `LineString` type can be used to specify that the item extends along a specific line (say, a street)\n",
    "* The `Polygon` type can be used to specify a (nondefault) shape (say, a shopping area). When using this type, you need to ensure that the first and last points are identical, to close the loop.\n",
    "* the Multi- version (`MultiPoint`, `MultiLineString`, etc.) is an array of the datatype selected."
   ]
  },
  {
   "cell_type": "code",
   "execution_count": null,
   "metadata": {
    "vscode": {
     "languageId": "javascript"
    }
   },
   "outputs": [],
   "source": [
    "db.restaurants.insertMany([\n",
    "  {\n",
    "    name: \"La Tienda.pe\",\n",
    "    geometry: {\n",
    "      type: \"Point\",\n",
    "      coordinates: [-12.053500537525748, -77.03921064695133],\n",
    "    },\n",
    "  },\n",
    "  {\n",
    "    name: \"Cibertec\",\n",
    "    geometry: {\n",
    "      type: \"Point\",\n",
    "      coordinates: [-12.054056628721154, -77.04093798943174],\n",
    "    },\n",
    "  },\n",
    "  {\n",
    "    name: \"Compu Plaza\",\n",
    "    geometry: {\n",
    "      type: \"Point\",\n",
    "      coordinates: [-12.054738625783504, -77.03771933884714],\n",
    "    },\n",
    "  },\n",
    "  {\n",
    "    name: \"Real Plaza\",\n",
    "    geometry: {\n",
    "      type: \"Point\",\n",
    "      coordinates: [-12.056900020448442, -77.0371399815887],\n",
    "    },\n",
    "  },\n",
    "  {\n",
    "    name: \"Museo de Arte de Lima\",\n",
    "    geometry: {\n",
    "      type: \"Point\",\n",
    "      coordinates: [-12.060236508102024, -77.03662499742207],\n",
    "    },\n",
    "  },\n",
    "  {\n",
    "    name: \"Universidad Nacional Mayor de San Marcos\",\n",
    "    geometry: {\n",
    "      type: \"Point\",\n",
    "      coordinates: [-12.060538798757241, -77.07885518696054],\n",
    "    },\n",
    "  }  \n",
    "]);"
   ]
  },
  {
   "cell_type": "markdown",
   "metadata": {},
   "source": [
    "Once this geospatial information is added to a document, you can create the index and give the `ensureIndex()` function the 2dsphere parameter like that:"
   ]
  },
  {
   "cell_type": "code",
   "execution_count": null,
   "metadata": {
    "vscode": {
     "languageId": "javascript"
    }
   },
   "outputs": [],
   "source": [
    "db.restaurants.find({\n",
    "  loc: {\n",
    "    $geoWithin: {\n",
    "      $geometry: {\n",
    "        type: \"Polygon\",\n",
    "        coordinates: [\n",
    "          [\n",
    "            [-12.065062800257751, -77.04544410025018],\n",
    "            [-12.064097548757553, -77.03771933884715],\n",
    "            [-12.059984699067536, -77.0381055769173],\n",
    "            [-12.05885155592601, -77.02999457744413],\n",
    "            [-12.054151059187035, -77.02999457744413],\n",
    "            [-12.04370055267709, -77.0244155830975],\n",
    "            [-12.043490698982383, -77.02922210130382],\n",
    "            [-12.041434124096616, -77.03424319621578],\n",
    "            [-12.04596696213006, -77.03750476214151],\n",
    "            [-12.04365858195127, -77.04295501046475],\n",
    "            [-12.065062800257751, -77.04544410025018],\n",
    "          ],\n",
    "        ],\n",
    "      },\n",
    "    },\n",
    "  },\n",
    "});\n"
   ]
  },
  {
   "cell_type": "code",
   "execution_count": null,
   "metadata": {
    "vscode": {
     "languageId": "javascript"
    }
   },
   "outputs": [],
   "source": [
    "db.restaurants.ensureIndex({\"loc\": \"2dsphere\"});"
   ]
  },
  {
   "cell_type": "markdown",
   "metadata": {},
   "source": [
    "The 2dsphere parameter tells `ensureIndex()` that it’s indexing a coordinate or some other form of two-dimensional information on an Earth-like sphere. By default, ensureIndex() assumes that a latitude/longitude key is given, and it uses a range of -180 to 180.\n",
    "\n",
    "We can overwrite these values using the min and max parameters, but this not usual\n"
   ]
  },
  {
   "cell_type": "code",
   "execution_count": null,
   "metadata": {
    "vscode": {
     "languageId": "javascript"
    }
   },
   "outputs": [],
   "source": [
    "db.restaurants.ensureIndex({\"loc\": \"2dsphere\"}, {\"min\" : -500 , \"max\" : 500});"
   ]
  },
  {
   "cell_type": "markdown",
   "metadata": {},
   "source": [
    "## Querying Geospatial Information"
   ]
  },
  {
   "cell_type": "code",
   "execution_count": null,
   "metadata": {
    "vscode": {
     "languageId": "javascript"
    }
   },
   "outputs": [],
   "source": [
    "db.restaurants.find(\n",
    "    {\n",
    "        \"loc\":{\n",
    "            \"$near\":{\n",
    "                \"$geometry\": {\"type\": \"Point\", \"coordinates\":[51.88433, 5.513629]},\n",
    "                \"$maxDistance\": 80000}\n",
    "                }\n",
    "        }\n",
    "    );"
   ]
  },
  {
   "cell_type": "markdown",
   "metadata": {},
   "source": [
    "Given a coordinate, this returns the restaurants located within 80000 metres (80 kilometers). In order."
   ]
  },
  {
   "cell_type": "markdown",
   "metadata": {},
   "source": [
    "In addition to the `$near` operator, MongoDB also includes a `$geoWithin` operator. \n",
    "You use this operator to find items in a particular shape. \n",
    "* At this time, you can find items located in a `$box`, `$polygon`, `$center`, and `$centerSphere` shape, where:\n",
    "  * `$box` represents a rectangle, \n",
    "  * `$polygon` represents a specific shape of your choosing, \n",
    "  * `$center` represents a circle, and \n",
    "  * `$centerSphere` defines a circle on a sphere."
   ]
  },
  {
   "cell_type": "markdown",
   "metadata": {},
   "source": [
    "To use the `$box` shape, you first need to specify the lower-left, followed by the upper-right, coordinates\n",
    "of the box:"
   ]
  },
  {
   "cell_type": "code",
   "execution_count": null,
   "metadata": {
    "vscode": {
     "languageId": "javascript"
    }
   },
   "outputs": [],
   "source": [
    "db.restaurants.find( \n",
    "    { \n",
    "        loc: { $geoWithin : { \n",
    "            $box : [[52.368549,4.890238],[52.368849,4.89094]]\n",
    "             } \n",
    "        }\n",
    "    });    "
   ]
  },
  {
   "cell_type": "markdown",
   "metadata": {},
   "source": [
    "This piece returns the restaurants that are in the box formed by [52.368549,4.890238],[52.368849,4.89094]"
   ]
  },
  {
   "cell_type": "markdown",
   "metadata": {},
   "source": [
    "In **google maps** (latitud, longitud), but in our (longitud, latitud). Later represent in (x=longitud, y=latitud)"
   ]
  },
  {
   "cell_type": "code",
   "execution_count": null,
   "metadata": {
    "vscode": {
     "languageId": "javascript"
    }
   },
   "outputs": [],
   "source": [
    "db.restaurants.find({\n",
    "    loc: {\n",
    "      $geoWithin: {\n",
    "        $geometry: {\n",
    "          type: \"Polygon\",\n",
    "          coordinates: [\n",
    "            [\n",
    "              [-12.065062800257751, -77.04544410025018], // This begin the coordinates \n",
    "              [-12.064097548757553, -77.03771933884715],\n",
    "              [-12.059984699067536, -77.0381055769173],\n",
    "              [-12.05885155592601, -77.02999457744413],\n",
    "              [-12.054151059187035, -77.02999457744413],\n",
    "              [-12.04370055267709, -77.0244155830975],\n",
    "              [-12.043490698982383, -77.02922210130382],\n",
    "              [-12.041434124096616, -77.03424319621578],\n",
    "              [-12.04596696213006, -77.03750476214151],\n",
    "              [-12.04365858195127, -77.04295501046475],\n",
    "              [-12.065062800257751, -77.04544410025018], // This end the coordinates\n",
    "            ],\n",
    "          ],\n",
    "        },\n",
    "      },\n",
    "    },\n",
    "  });\n",
    "  "
   ]
  },
  {
   "cell_type": "markdown",
   "metadata": {},
   "source": [
    "<div align = \"center\">\n",
    "<img src  = \"assets/map-cercado.png\" height = 300 />\n",
    "</div>"
   ]
  },
  {
   "cell_type": "markdown",
   "metadata": {},
   "source": [
    "To find items within a specific polygon form (in this example this polygon form `Urb Cercado de Lima`), you need to specify the coordinates of your points as a set of nested arrays. Again note that the first and last coordinates must be identical to close the shape properly."
   ]
  },
  {
   "cell_type": "markdown",
   "metadata": {},
   "source": [
    "We need to specify the center of the circle and its radius, measured in the units used by the coordinate system\n"
   ]
  },
  {
   "cell_type": "code",
   "execution_count": null,
   "metadata": {
    "vscode": {
     "languageId": "javascript"
    }
   },
   "outputs": [],
   "source": [
    "db.restaurants.find( { loc: { $geoWithin : { $center : [ [52.370524, 5.217682], 10] } } } )"
   ]
  },
  {
   "cell_type": "markdown",
   "metadata": {},
   "source": [
    "This example query returns all documents that have coordinates that exist within the circle centered on [52.370524, 5.217682 ] and with a radius of 10."
   ]
  },
  {
   "cell_type": "markdown",
   "metadata": {},
   "source": [
    "# Working with Data"
   ]
  },
  {
   "cell_type": "markdown",
   "metadata": {},
   "source": [
    "We created a database and used with \n",
    "```mongodb\n",
    "use library\n",
    "```\n",
    "Doing this means that all the commands you pass down into the shell will automatically\n",
    "assume they need to be executed on the library database until you reset this variable to another database"
   ]
  },
  {
   "cell_type": "markdown",
   "metadata": {},
   "source": [
    "To view the database you are currently working in, simply type `db` into the MongoDB shel"
   ]
  },
  {
   "cell_type": "markdown",
   "metadata": {},
   "source": [
    "```mongodb\n",
    "show dbs\n",
    "```\n",
    "\n",
    "Note that this function will only show a database that already exists. "
   ]
  },
  {
   "cell_type": "markdown",
   "metadata": {},
   "source": [
    "```mongodb\n",
    "show collections\n",
    "```\n",
    "To show the collectionsof db"
   ]
  },
  {
   "cell_type": "markdown",
   "metadata": {},
   "source": [
    "## Inserting Data into Collections"
   ]
  },
  {
   "cell_type": "markdown",
   "metadata": {},
   "source": [
    "Insert One document"
   ]
  },
  {
   "cell_type": "code",
   "execution_count": null,
   "metadata": {
    "vscode": {
     "languageId": "javascript"
    }
   },
   "outputs": [],
   "source": [
    "db.Media.insertOne({\n",
    "  Type: \"CD\",\n",
    "  Artist: \"Nirvana\",\n",
    "  Title: \"Nevermind\",\n",
    "  Genre: \"Grunge\",\n",
    "  Releasedate: \"1991.09.24\",\n",
    "  Tracklist: [\n",
    "    {\n",
    "      Track: \"1\",\n",
    "      Title: \"Smells Like Teen Spirit\",\n",
    "      Length: \"5:02\",\n",
    "    },\n",
    "    {\n",
    "      Track: \"2\",\n",
    "      Title: \"In Bloom\",\n",
    "      Length: \"4:15\",\n",
    "    },\n",
    "  ],\n",
    "});\n",
    "\n",
    "db.Media.insertMany([\n",
    "  {\n",
    "    type: \"Book\",\n",
    "    Title:\n",
    "      \"Definitive Guide to MongoDB: A complete guide to dealing with Big Data using MongoDB 3rd ed., The\",\n",
    "    ISBN: \"978-1-4842-1183-0\",\n",
    "    Publisher: \"Apress\",\n",
    "    Author: [\"Hows, David\", \"Plugge, Eelco\", \"Membrey, Peter\", \"Hawkins, Tim\"],\n",
    "  },\n",
    "  {\n",
    "    Type: \"CD\",\n",
    "    Artist: \"The Beatles\",\n",
    "    Title: \"Help!\",\n",
    "    Genre: \"Rock\",\n",
    "    ReleaseDate: \"1965\",\n",
    "    Tracklist: [\n",
    "      {\n",
    "        Track1: \"1\",\n",
    "        Title: \"Help!\",\n",
    "      },\n",
    "      {\n",
    "        Track2: \"2\",\n",
    "        Title: \"you've got to hide your love away\",\n",
    "      },\n",
    "      {\n",
    "        Track3: \"3\",\n",
    "        Title: \"Another Girl\",\n",
    "      },\n",
    "    ],\n",
    "  },\n",
    "  {\n",
    "    Type: \"CD\",\n",
    "    Artist: \"The Beatles\",\n",
    "    Title: \"Anthology 1\",\n",
    "    Genre: \"Rock\",\n",
    "    ReleaseDate: \"1995\",\n",
    "    Tracklist: [\n",
    "      {\n",
    "        Track1: \"1\",\n",
    "        Title: \"Free as a Bird\",\n",
    "      },\n",
    "      {\n",
    "        Track2: \"2\",\n",
    "        Title: \"We were four guys ... thats all\",\n",
    "      },\n",
    "      {\n",
    "        Track3: \"3\",\n",
    "        Title: \"That'll Be the Day\",\n",
    "      },\n",
    "      {\n",
    "        Track3: \"4\",\n",
    "        Title: \"In Spite of All the Danger\",\n",
    "      },\n",
    "    ],\n",
    "  }]\n",
    ");\n"
   ]
  },
  {
   "cell_type": "markdown",
   "metadata": {},
   "source": [
    "The names of the keys have some restrictions:\n",
    "* The `$` character must not be the first character in the key name.\n",
    "* The period `.` character must not appear anywhere in the key name.\n",
    "* The name `_id` is reserved for use as a primary key ID\n"
   ]
  },
  {
   "cell_type": "markdown",
   "metadata": {},
   "source": [
    "The names of collections as well have some restrictions:\n",
    "* The name cannot exceed 120 characters.\n",
    "* An empty string can't be used to name\n",
    "* The collection’s name must start with either a letter or an underscore\n",
    "* The collection name `system` is reserved for MongoDB and cannot be used"
   ]
  },
  {
   "cell_type": "markdown",
   "metadata": {},
   "source": [
    "## Querying for Data"
   ]
  },
  {
   "cell_type": "markdown",
   "metadata": {},
   "source": [
    "The `find()` function provides the easiest way to retrieve data from multiple documents within one of your collections. "
   ]
  },
  {
   "cell_type": "code",
   "execution_count": null,
   "metadata": {
    "vscode": {
     "languageId": "javascript"
    }
   },
   "outputs": [],
   "source": [
    "// This return one document\n",
    "db.Media.findOne()"
   ]
  },
  {
   "cell_type": "code",
   "execution_count": null,
   "metadata": {
    "vscode": {
     "languageId": "javascript"
    }
   },
   "outputs": [],
   "source": [
    "// Show Artist The Beatles\n",
    "db.Media.find({\"Artist\":\"The Beatles\"})\n",
    "\n",
    "// Return the only the title of CD of artist equal Nirvana\n",
    "// 1 point out the `field:values` that the query will return \n",
    "// 0 point out the `field:values` that the query will not return \n",
    "db.Media.find({\"Artist\":\"The Beatles\"}, {\"Title\":1, \"Releasedate\":1, _id:0})"
   ]
  },
  {
   "cell_type": "markdown",
   "metadata": {},
   "source": [
    "### Using the Dot Notation"
   ]
  },
  {
   "cell_type": "markdown",
   "metadata": {},
   "source": [
    "When We want to work with documents containing `arrays` or `embedded` objects, to access into inner docs we use ."
   ]
  },
  {
   "cell_type": "code",
   "execution_count": null,
   "metadata": {
    "vscode": {
     "languageId": "javascript"
    }
   },
   "outputs": [],
   "source": [
    "db.Media.find( { \"Tracklist.Title\" : \"Help!\" })"
   ]
  },
  {
   "cell_type": "markdown",
   "metadata": {},
   "source": [
    "### Working with Capped Collections, Natural Order, and $natural"
   ]
  },
  {
   "cell_type": "markdown",
   "metadata": {},
   "source": [
    "The *natural order* is the database’s native ordering method for objects within a (normal) collection\n",
    "\n",
    "A *capped collection* is a collection in your database where the natural order is guaranteed to be the order in which the documents were inserted\n",
    "\n",
    "Capped collections have another great benefit: they are a fixed size. Once a capped collection is full, the oldest data will be purged and newer data will be added at the end\n",
    "\n",
    "A *capped collection* must be created explicitly, using the `createCollection` function."
   ]
  },
  {
   "cell_type": "markdown",
   "metadata": {},
   "source": [
    "```mongodb\n",
    "db.createCollection(\"audit\", {capped:true, size:20480})\n",
    "```"
   ]
  },
  {
   "cell_type": "markdown",
   "metadata": {},
   "source": [
    "To create a *capped collection* named *audit* with a maximum size of 20480 bytes."
   ]
  },
  {
   "cell_type": "markdown",
   "metadata": {},
   "source": [
    "To find the ten most recent entries from your capped collection that lists failed login attempts.\n",
    "\n",
    "```mongodb\n",
    "db.audit.find().sort( { $natural: -1 } ).limit ( 10 )\n",
    "```"
   ]
  },
  {
   "cell_type": "markdown",
   "metadata": {},
   "source": [
    "Stats of db and collections\n",
    "\n",
    "```mongodb\n",
    "db.stats()\n",
    "\n",
    "db.media.stats()\n",
    "```"
   ]
  },
  {
   "cell_type": "markdown",
   "metadata": {},
   "source": [
    "## Using the Aggregation Commands"
   ]
  },
  {
   "cell_type": "markdown",
   "metadata": {},
   "source": [
    "`count()`, `distinct()`"
   ]
  },
  {
   "cell_type": "code",
   "execution_count": null,
   "metadata": {
    "vscode": {
     "languageId": "javascript"
    }
   },
   "outputs": [],
   "source": [
    "// count the documents\n",
    "db.Media.count()\n",
    "// count the documents that match the query\n",
    "db.Media.count( {\"Genre\":\"Rock\"})\n",
    "\n",
    "// return a list of Artists unique\n",
    "db.Media.distinct(\"Artist\")\n",
    "// return the lenght a list of Artist uniques\n",
    "db.Media.distinct(\"Artist\").length\n",
    "\n",
    "// return the lenght a list of Artist uniques that mathc the query\n",
    "db.Media.distinct(\"Artist\", {\"Genre\":\"Rock\"})"
   ]
  },
  {
   "cell_type": "markdown",
   "metadata": {},
   "source": [
    "## Operadores"
   ]
  },
  {
   "cell_type": "markdown",
   "metadata": {},
   "source": [
    "* Equals: `$eq`\n",
    "* Not Equal To: `$ne`\n",
    "* Greater Than `$gt`\n",
    "* Greater Than or Equal To `$gte`\n",
    "* Less Than `$lt`\n",
    "* Less Than or Equal To `$lte`\n",
    "* In `$in`\n",
    "* Not In `$nin`"
   ]
  },
  {
   "cell_type": "code",
   "execution_count": null,
   "metadata": {
    "vscode": {
     "languageId": "javascript"
    }
   },
   "outputs": [],
   "source": [
    "db.products.find({\"old-price\":{$gt:250}})\n",
    "\n",
    "db.products.count({\"old-price\":{$gt:250}})"
   ]
  },
  {
   "cell_type": "markdown",
   "metadata": {},
   "source": [
    "### Logical Operators\n",
    "\n",
    "`$and`, `$or`, `$nor`, `$not`"
   ]
  },
  {
   "cell_type": "code",
   "execution_count": null,
   "metadata": {
    "vscode": {
     "languageId": "javascript"
    }
   },
   "outputs": [],
   "source": [
    "db.products.find({\"$and\":[{\"old-price\":{$gt:200}}, {\"active-price\":{$gt:150}}]})\n",
    "\n",
    "db.products.count({\"$nor\":[{\"old-price\":{$gt:200}}, {\"old-price\":{$lt:150}}]})\n",
    "\n",
    "db.products.find({\"$nor\":[{\"old-price\":{$gt:200}}, {\"old-price\":{$lt:150}}]}, {\"Code\":1})"
   ]
  },
  {
   "cell_type": "markdown",
   "metadata": {},
   "source": [
    "### Regular Expressions\n",
    "\n",
    "https://www.mongodb.com/docs/manual/reference/operator/query/regex/"
   ]
  },
  {
   "cell_type": "code",
   "execution_count": null,
   "metadata": {
    "vscode": {
     "languageId": "javascript"
    }
   },
   "outputs": [],
   "source": [
    "db.products.count({\"title\":{$regex:\"^S.*\"}})\n",
    "\n",
    "db.products.count({\"title\":{$regex:\"^S.*\", $options : \"i\"}})\n",
    "\n",
    "// titles that not begin with s"
   ]
  },
  {
   "cell_type": "markdown",
   "metadata": {},
   "source": [
    "### Query Arrays and Nested Documents"
   ]
  },
  {
   "cell_type": "markdown",
   "metadata": {},
   "source": [
    "First in array. Recall Color is a list.\n",
    "\n",
    "```mongodb\n",
    "db.products.find({$or:[{\"Color\":\"RGB(0,0,0)\"}, {\"Color\":\"RGB(54,5,2)\"}] })\n",
    "// find the documents that into Color is RGB(0,0,0) or RGB(54,5,2)\n",
    "\n",
    "db.products.count({\"Color\" :{$not:{$regex:\"^h.*\"} }})\n",
    "// find the documents that into Color array is not some string that begining with h\n",
    "\n",
    "db.products.count({$and:[{\"Color\":\"RGB(0,0,0)\"}, {\"Color\" :{$not:{$regex:\".*amazonaws.*\"} }}] })\n",
    "\n",
    "// count the documents that into Color array there is not some string that contains amazonaws and the color RGB(0,0,0) is included.\n",
    "```"
   ]
  },
  {
   "cell_type": "markdown",
   "metadata": {},
   "source": [
    "Finding an Array by an Array. Here the order is important.\n",
    "For instance, documents where Color array have RGB(0,0,0) in the first place, and the remaining RGB not matter\n",
    "```mongodb\n",
    "db.products.count({\"Color\":[\"RGB(0,0,0)\"]})\n",
    "```\n",
    "If we don't have that the order is not important, we pass $all\n",
    "\n",
    "```mongodb\n",
    "db.products.count({\"Color\":{$all: [\"RGB(0,0,0)\"]}})\n",
    "```"
   ]
  },
  {
   "cell_type": "markdown",
   "metadata": {},
   "source": [
    "Projecting Matching Elements Using ($)\n",
    "```mongodb\n",
    "db.products.find({\"Color\":{$all: [\"RGB(0,0,0)\"]}}, {\"Color.$\":1, \"_id\":0})\n",
    "```"
   ]
  },
  {
   "cell_type": "markdown",
   "metadata": {},
   "source": [
    "Projecting Matching Elements by their Index Position (`$slice`)\n",
    "\n",
    "In the following query, use  *$slice* to print only the first three elements of the array"
   ]
  },
  {
   "cell_type": "markdown",
   "metadata": {},
   "source": [
    "```mongodb\n",
    "db.products.find({\"Head\":\"ofertas\"}, {\"Color\":{\"$slice\":3}})\n",
    "```\n",
    "If we write negative, like -1, return the last item of the array."
   ]
  },
  {
   "cell_type": "markdown",
   "metadata": {},
   "source": [
    "**Querying Nested Object Fields**\n",
    "```mongodb\n",
    "db.Media.find({\"Tracklist.Title\":{$regex:\"^s.*\", \"$options\":\"i\"}})\n",
    "```\n",
    "\n",
    "We can do multiple queries"
   ]
  },
  {
   "cell_type": "markdown",
   "metadata": {},
   "source": [
    "#### Limiting, Skipping, and Sorting Documents\n",
    "\n",
    "Imagine that a user of our movie service is planning to watch a drama movie tonight. They will visit the movie store and search for drama movies and find that there are more than 13,000 of these in the collection.\n",
    "\n",
    "For a better user experience, you may want to show the 10 most popular movies in the drama category at a time, followed by the next 10 in the sequence, and so on. This technique of serving data is known as *pagination*.\n",
    "\n",
    "This is where a large result is divided into small chunks (also known as pages) and only one page is served at a\n",
    "time"
   ]
  },
  {
   "cell_type": "markdown",
   "metadata": {},
   "source": [
    "**Limiting the Result**\n",
    "\n",
    "```mongodb\n",
    "use productsdb\n",
    "db.products.find({\"active-price\":{$gt:100}},{\"active-price\":1, \"_id\":0}).limit(3)\n",
    "```\n",
    "Show only 3 results. \n",
    "\n",
    "If the number passed is greater than the number of results of the queries, only  show the original results.\n"
   ]
  },
  {
   "cell_type": "markdown",
   "metadata": {},
   "source": [
    "**Limit and Batch Size**\n",
    "\n",
    "```mongodb\n",
    "db.products.find({$and:[{\"active-price\":{$lt:90}}, {\"Head\": \"ofertas\"}]}).batchSize(5)\n",
    "```\n",
    "\n",
    "When the preceding query is executed, which specifies a batch size of 5, the database starts finding the documents that match the given condition. As soon as the first five documents are found, they are returned to the client as the first batch"
   ]
  },
  {
   "cell_type": "markdown",
   "metadata": {},
   "source": [
    "```mongodb\n",
    "db.products.find({$and:[{\"active-price\":{$lt:90}}, {\"Head\": \"ofertas\"}]}).limit(9).batchSize(5)\n",
    "```\n",
    "Here a example with limit"
   ]
  },
  {
   "cell_type": "markdown",
   "metadata": {},
   "source": [
    "**Skipping Documents**\n",
    "\n",
    "Skipping is used to exclude some documents in the result set and return the rest."
   ]
  },
  {
   "cell_type": "markdown",
   "metadata": {},
   "source": [
    "```mongodb\n",
    "db.products.find({$and:[{\"active-price\":{$lt:50}}, {\"Head\": \"ofertas\"}]})\n",
    "\n",
    "db.products.find({$and:[{\"active-price\":{$lt:50}}, {\"Head\": \"ofertas\"}]}).skip(5)\n",
    "```\n",
    "The results of the first recipe are 13, while the results of the second recipe are 5, last recipe exclude the first 5 results."
   ]
  },
  {
   "cell_type": "markdown",
   "metadata": {},
   "source": [
    "#### sort\n",
    "```mongodb\n",
    "db.products.find({$and:[{\"active-price\":{$lt:50}}, {\"Head\": \"ofertas\"}]}, {\"active-price\":1, \"_id\":0}).sort({\"active-price\":1})\n",
    "```"
   ]
  },
  {
   "cell_type": "markdown",
   "metadata": {},
   "source": [
    "Functions\n",
    "\n",
    "```mongodb\n",
    "var myFunction = function (head, top) {\n",
    "  x = db.products.find({\"Head\": head}, {\"active-price\":1, \"_id\":0, \"title\":1}).sort({\"active-price\":1}).limit(top).toArray()\n",
    "  return x\n",
    "}\n",
    "```"
   ]
  },
  {
   "cell_type": "markdown",
   "metadata": {},
   "source": [
    "## Insert, inserOne, inserMany\n",
    "\n",
    "```mongodb\n",
    "db.products.insertMany([{\"key\":value}, ... ])\n",
    "\n",
    "db.products.insertOne({\"key\":value})\n",
    "\n",
    "db.products.insert([{\"key\":value}, ...]) \n",
    "\n",
    "// or \n",
    "\n",
    "db.products.insert({\"key\":value})\n",
    "```"
   ]
  },
  {
   "cell_type": "markdown",
   "metadata": {},
   "source": [
    "We must see `nInserted`"
   ]
  },
  {
   "cell_type": "markdown",
   "metadata": {},
   "source": [
    "You can insert as many documents as you want using the function `insertMany()`. \n",
    "\n",
    "However, the batch size should not exceed 100,000. On a mongo shell, if you try to insert more than 100,000 documents in a single batch, the query will fail.\n",
    "\n",
    "If in the array that we want to insert there are  duplicates, these documents will not be inserted, the remaining yes. But if we use finOne(), th operation is broken.\n"
   ]
  },
  {
   "cell_type": "markdown",
   "metadata": {},
   "source": [
    "To see the last record inserted in a collection\n",
    "\n",
    "```mongodb\n",
    "db.products.find().limit(1).sort({$natural:-1})\n",
    "```"
   ]
  },
  {
   "cell_type": "markdown",
   "metadata": {},
   "source": [
    "### Deleting Documents"
   ]
  },
  {
   "cell_type": "markdown",
   "metadata": {},
   "source": [
    "The syntaxis is similar at find"
   ]
  },
  {
   "cell_type": "markdown",
   "metadata": {},
   "source": [
    "```mongodb\n",
    "db.products.deleteMany({}) // delete all documents \n",
    "db.products.deleteOne(\n",
    "    { \n",
    "        <filter>, \n",
    "        {collation: <document>, \n",
    "        hint: <document|string>}\n",
    "        }\n",
    ") // To delete at most a single document\n",
    "\n",
    "db.products.deleteMany(\n",
    "    { \n",
    "        <filter>, \n",
    "        {collation: <document>}\n",
    "        }\n",
    ") // To delete all documents catched\n",
    "\n",
    "```"
   ]
  },
  {
   "cell_type": "markdown",
   "metadata": {},
   "source": [
    "```mongodb\n",
    "db.products.deleteMany({\"title\":{$regex:\"^a\", $options:\"i\"}})\n",
    "```\n",
    "Here is `<filter> = {\"title\":{$regex:\"^a\", $options:\"i\"}}`"
   ]
  },
  {
   "cell_type": "markdown",
   "metadata": {},
   "source": [
    "## Replacing Documents\n",
    "`replaceOne()`\n",
    "\n",
    "If we are sure that only a document is catched when pass the filter and we want to replace all fields of this document by one new we use `replaceOne({}, {})`\n",
    "\n",
    "```mongodb\n",
    "db.products.find({\"title\":\"Talco Salvaje\"})\n",
    "\n",
    "db.products.replace({\"title\":\"Talco Salvaje\"}, {\"active-price\":20})\n",
    "\n",
    "```\n",
    "First we find and then replace. The `_id` is immutable, this is the same before and after the replacement.\n"
   ]
  },
  {
   "cell_type": "markdown",
   "metadata": {},
   "source": [
    "Maybe there is not the document that we want to replace, and we want to create the document. For this situations `upsert`"
   ]
  },
  {
   "cell_type": "markdown",
   "metadata": {},
   "source": [
    "```mongodb\n",
    "db.products.replaceOne({\"title\":\"Talco Salvaje\"}, {\"active-price\":20, \"title\":\"Talco Salvaje\"},{upsert:true})\n",
    "```"
   ]
  },
  {
   "cell_type": "markdown",
   "metadata": {},
   "source": [
    "First we show the document that match the filter\n",
    "\n",
    "```mongodb\n",
    "db.products.find({\"Code\":\"200106290\"})\n",
    "```\n",
    "\n",
    "```mongodb\n",
    " db.products.findOneAndReplace({\"Code\":\"200106290\"},{\"old-price\" : 160, \"active-price\" : 151.9, \"Code\" : \"200106290\", \"title\" : \"D'orsay Inspire Perfume de Hombre\", \"Imagen\" : \"https://belc-bigdata-mdm-images-prd.s3.amazonaws.com/images/FotoProductoFondoBlancoWebRedes/200106290-producto.jpg\", \"Head\" : \"perfumes\", \"last\" : true} , {sort:{\"_id\":-1}, projection : {\"_id\" : 0}, projection : {\"_id\" : 0}, returnNewDocument : true} )\n",
    "\n",
    "```\n"
   ]
  },
  {
   "cell_type": "markdown",
   "metadata": {},
   "source": [
    "Delete all documents of a collection, in this case of the collection products\n",
    "```mongodb\n",
    "db.products.deleteMany({})\n",
    "```"
   ]
  },
  {
   "cell_type": "markdown",
   "metadata": {},
   "source": [
    "## Updating a Document with updateOne()\n",
    "To update the fields of a single document in a collection, we can use the function\n",
    "updateOne(). "
   ]
  },
  {
   "cell_type": "markdown",
   "metadata": {},
   "source": [
    "``` mongodb\n",
    "db.products.updateMany({$and:[{\"old-price\":{$lt:90}}, {\"Head\": \"ofertas\"}]}, {$set :{\"old-price\":100}})\n",
    "```\n",
    "\n",
    "Set the old-price in *100* when prices of products are less than 90 and its group is *ofertas*\n",
    "\n",
    "We can add some field if they no exist\n",
    "\n",
    "``` mongodb\n",
    "db.products.updateMany({$and:[{\"active-price\":{$lt:20}}, {\"active-price\":{$gt:10}}]}, {$set:{\"classifications\": \"So cheaper\"}})\n",
    "```\n",
    "\n",
    "In above we add the field \"classification\" with value \"So cheaper\" when the active-prices of the products are less than 20, bu greater than 10."
   ]
  },
  {
   "cell_type": "markdown",
   "metadata": {},
   "source": [
    "```mongodb\n",
    "var gift = \"Probador colonia 2ml / 0.06 fl.oz\"\n",
    "db.products.updateMany({$and:[{\"active-price\":{$gt:80}}, {\"active-price\":{$lt:100}}]},{$set: {\"Gift\": gift, \"classification\":\"Medium\", \"Cities\":[\"Lima\", \"Piura\"]}})\n",
    "```\n",
    "We add a gift and we classify to \"medium\" if the active-price is greater than 8 0and less than 100."
   ]
  },
  {
   "cell_type": "markdown",
   "metadata": {},
   "source": [
    "If the condition does not match we can create a new document setting in te options `upsert :true`\n",
    "\n",
    "``` mongodb\n",
    "db.products.updateMany(\n",
    "    {$and:[\n",
    "        {\"active-price\":{$lt:20}}, \n",
    "        {\"active-price\":{$gt:10}}]\n",
    "    }, \n",
    "    {$set:{\"classifications\": \"So cheaper\", \"Promosion\":}},\n",
    "    {upset:true}\n",
    "    )\n",
    "```"
   ]
  },
  {
   "cell_type": "markdown",
   "metadata": {},
   "source": [
    "If we know that the conditions only meet one document or we can see how would be the changes in the field if we apply the update, in those cases we can use `updateOne()`\n",
    "\n",
    "``` mongodb\n",
    "db.products.updateOne({$and:[{\"old-price\":{$lt:90}}, {\"Head\": \"ofertas\"}]}, {$set :{\"old-price\":100}})\n",
    "\n",
    "```"
   ]
  },
  {
   "cell_type": "markdown",
   "metadata": {},
   "source": [
    "### Update Operators"
   ]
  },
  {
   "cell_type": "markdown",
   "metadata": {},
   "source": [
    "* `$inc`, `$mul`, `$rename`, `$currentDate` , `$unset`\n",
    "\n",
    "* Reduce the active-price in 10 at active-price greater than 200\n",
    "\n",
    "    ```mongodb\n",
    "    db.products.updateMany({\"active-price\":{$gt:200}}, {$inc:{\"active-price\":-10}})\n",
    "    ```\n",
    "* Reduce the old-price in 5% when active-price greater than 200\n",
    "\n",
    "    ```mongodb\n",
    "    db.products.updateMany({\"active-price\":{$gt:200}}, {$inc:{\"old-price\":0.95}})\n",
    "    ```\n",
    "* rename the old-price by my early-price\n",
    "\n",
    "    ```mongodb\n",
    "    db.products.updateMany({}, {$rename:{\"old-price\":\"early-price\"}})\n",
    "    ```\n",
    "* rename to modify nested prices:{\"early\": `<value>`, \"active\" :`<value>`} \n",
    "\n",
    "    ```mongodb\n",
    "    db.products.updateMany({}, {$rename:{\"early-price\":\"prices.early\",  \"active-price\":\"prices.active\"}})\n",
    "    ```\n",
    "* create date \n",
    "\n",
    "    ```mongodb\n",
    "    db.products.updateMany({\"prices.active\":{$lt:15}}, {\"$inc\":{\"prices.early\":5}})\n",
    "    db.products.updateMany(\n",
    "        {\"prices.active\":{$lt:15}}, \n",
    "        {$currentDate : { \n",
    "            \"created_date\" : true,  \n",
    "            \"last_updated.date\" : {$type : \"date\"}, \n",
    "            \"last_updated.timestamp\" : {$type : \"timestamp\"}}})\n",
    "\n",
    "    ```\n",
    "* to remove the field flag.  It doesn't matter the value assigned.\n",
    "\n",
    "    ```mongodb\n",
    "    db.products.updateMany({\"prices.early\":{$lt:15}}, {$unset:{\"flag\": 0}})\n",
    "    ```\n",
    "\n"
   ]
  },
  {
   "cell_type": "markdown",
   "metadata": {},
   "source": [
    "## Updating with Aggregation Pipelines and Arrays\n",
    "In more complex update operations, we may need to use dynamically derived fields that are based on the values of other fields."
   ]
  },
  {
   "cell_type": "markdown",
   "metadata": {},
   "source": [
    "Adding Elements to Arrays\n",
    "\n",
    "```mongodb\n",
    "db.products.updateMany({\"prices.early\":{$lt:15}},{$set:{\"Desinger\" :[\"Arrow\"]}})\n",
    "db.products.updateMany({\"prices.early\":{$lt:15}},{$push:{\"Desinger\" :\"Brown\"}})\n",
    "```\n",
    "* with $set creates array\n",
    "* with $push add elememnt into array\n",
    "\n"
   ]
  },
  {
   "cell_type": "markdown",
   "metadata": {},
   "source": [
    "Sort Elements in Array\n",
    "\n",
    "```mongodb\n",
    "db.products.updateMany({\"prices.early\":{$lt:15}},{$push:{\"Desinger\" :{$each:[] ,$sort:1}}})\n",
    "db.products.updateMany({\"prices.early\":{$lt:15}},{$push:{\"Desinger\" :{$each:[\"Bullou\"] ,$sort:1}}})\n",
    "```\n",
    "* The first only alter the order of elements of Designer\n",
    "* The second add a value in array and then sort them\n",
    "* Instead $push we can use $addToSet. This add as well, but no re-insert, that is, no duplicate.\n",
    "\n",
    "I we have nest elements\n"
   ]
  },
  {
   "cell_type": "markdown",
   "metadata": {},
   "source": [
    "Remove elements of array\n",
    "\n",
    "```mongodb\n",
    "db.products.updateMany({\"prices.early\":{$lt:15}},{$pop:{\"Desinger\" :1}})\n",
    "db.products.updateMany({\"prices.early\":{$lt:15}},{$pop:{\"Desinger\" :-1}})\n",
    "```\n",
    "* -1 remove the last\n",
    "* 1 remove the first"
   ]
  },
  {
   "cell_type": "markdown",
   "metadata": {},
   "source": [
    "Removing All Elements\n",
    "```mongodb\n",
    "db.products.updateMany({\"prices.early\":{$lt:15}},{$pullAll:{\"Desinger\" :[\"Alonso\", \"Arrow\"]}})\n",
    "```\n",
    "* Remove Alonso and Arrow of field designer\n"
   ]
  },
  {
   "cell_type": "markdown",
   "metadata": {},
   "source": [
    "Removing Matched Elements\n",
    "\n",
    "```mongodb\n",
    "db.products.updateMany({\"prices.early\":{$lt:15}},{$pullAll:{\"Desinger\" :[\"Alonso\", \"Arrow\"]}})\n",
    "```\n",
    "* Remove Alonso and Arrow of field designer\n"
   ]
  },
  {
   "cell_type": "markdown",
   "metadata": {},
   "source": [
    "```mongodb\n",
    "db.costumers.insertOne(\n",
    "    {\"items\":[\n",
    "        {\"name\":\"microeconomics\", \"price\":40, \"quantiy\":1}, \n",
    "        {\"name\":\"macroeconomics\", \"price\":90, \"quantity\":1}, \n",
    "        {\"name\":\"eraser\", \"price\":5, \"quantity\":5}\n",
    "        ]\n",
    "    })\n",
    "\n",
    "db.costumers.updateMany({}, {$pull:{\"items\":{name:{$regex:\"^e.*\"}}}})\n",
    "```\n",
    "* Remove all subdodument that match regex "
   ]
  },
  {
   "cell_type": "markdown",
   "metadata": {},
   "source": [
    "```mongodb\n",
    "db.products.updateMany({\"prices.early\":{$lt:15}}, {$set:{\"Desinger.$[]\":\"Sail\"}})\n",
    "```\n",
    "* All values in the array Desinger will changed be \"Sail\""
   ]
  },
  {
   "cell_type": "markdown",
   "metadata": {},
   "source": [
    "```mongodb\n",
    "db.products.updateMany({\"prices.early\":{$lt:15}}, {$rename:{\"Desinger\":\"Designer\"}})\n",
    "```\n",
    "* Rename"
   ]
  },
  {
   "cell_type": "markdown",
   "metadata": {},
   "source": [
    "```mongodb\n",
    "db.costumers.updateMany({}, {$push:{\"items\": {\"name\":\"microeconomics_and_behavior\"}} })\n",
    "```\n",
    "* insert a subdocument in the item array."
   ]
  },
  {
   "cell_type": "markdown",
   "metadata": {},
   "source": [
    "## Aggregation"
   ]
  },
  {
   "cell_type": "markdown",
   "metadata": {},
   "source": [
    "Aggregate Syntax\n",
    "```mongodb\n",
    "use db_name;\n",
    "var pipeline = [] // The pipeline is an array of stages.\n",
    "var options = {} // We will explore the options later in the chapter.\n",
    "var cursor = db.movies.aggregate(pipeline, options);\n",
    "```\n",
    "* The *pipeline* parameter itself is passed in as an array of JSON documents.\n",
    "* *Options* is optional and allows you to specify the details of the configuration, such as how the aggregation.\n"
   ]
  },
  {
   "cell_type": "code",
   "execution_count": null,
   "metadata": {
    "vscode": {
     "languageId": "javascript"
    }
   },
   "outputs": [],
   "source": []
  },
  {
   "cell_type": "markdown",
   "metadata": {},
   "source": [
    "By we can create a `function`\n",
    "```mongodb\n",
    "var MyAggregation_A = function(){\n",
    "    print(\"Running Aggregation Script Ch7.1\");\n",
    "    var pipeline = [];\n",
    "    // This next line stores our result in a cursor.\n",
    "    var cursor = db.movies.aggregate(pipeline);\n",
    "    // This line will print the next iteration of our cursor.\n",
    "    printjson(cursor.next())};\n",
    "\n",
    "MyAggregation_A();\n",
    "```"
   ]
  },
  {
   "cell_type": "code",
   "execution_count": null,
   "metadata": {},
   "outputs": [],
   "source": []
  },
  {
   "cell_type": "markdown",
   "metadata": {},
   "source": [
    "We can think of the data as water flowing through this pipeline, being transformed and filtered at each stage until it is finally poured out the end of the pipeline as a result."
   ]
  },
  {
   "cell_type": "markdown",
   "metadata": {},
   "source": [
    "Syntax of pipeline\n",
    "```mongodb\n",
    "var pipeline = [ \n",
    "    { . . . },\n",
    "    { . . . },\n",
    "    { . . . },\n",
    "];\n",
    "```\n",
    "\n",
    "Each of the objects in the array represents a single stage in the overall pipeline,\n",
    "with the stages being executed in their array order (top to bottom). Each stage\n",
    "object takes the form of the following:\n",
    "\n",
    "```mongodb\n",
    "{$stage : parameters}\n",
    "```\n"
   ]
  },
  {
   "cell_type": "markdown",
   "metadata": {
    "vscode": {
     "languageId": "javascript"
    }
   },
   "source": [
    "\n",
    "```mongodb\n",
    "var pipeline = [\n",
    "    { $match: { $and : [{\"Head\": \"ofertas\", \"prices.active\":{$gt:40}}]}},\n",
    "    { $project: { \"prices.active\": 1, _id:0, \"title\": 1}},\n",
    "    { $sort: { \"prices.active\": 1}},\n",
    "    { $limit: 3}];\n",
    "// we can use `{$count : \"any_name\"}` to count the itemns\n",
    "db.products.aggregate(pipeline).forEach(printjson);\n",
    "```"
   ]
  },
  {
   "cell_type": "markdown",
   "metadata": {},
   "source": [
    "### Manipulating Data"
   ]
  },
  {
   "cell_type": "markdown",
   "metadata": {},
   "source": [
    "* The unique values of the field Head is treated like _id\n",
    "\n",
    "    ```mongodb\n",
    "    var pipeline = [   \n",
    "        { $group:{_id:\"$Head\"} }\n",
    "        ];\n",
    "    db.products.aggregate(pipeline).forEach(printjson);\n",
    "    ```\n",
    "* Grouped by Head and count the number of observations by each group.\n",
    " \n",
    "```mongodb\n",
    "    var pipeline = [\n",
    "        { $group:{_id:\"$Head\", \"NumberHead\":{$sum:1}}}];\n",
    "    db.products.aggregate(pipeline).forEach(printjson);\n",
    "```\n",
    "* Grouped by Head and compute the average of the price active\n",
    "```mongodb\n",
    "    var pipeline = [\n",
    "        { $group:{_id:\"$Head\", \"NumberHead\":{$sum:\"$prices.active\"}}}];\n",
    "\n",
    "    db.products.aggregate(pipeline).forEach(printjson);\n",
    "```\n",
    "\n"
   ]
  },
  {
   "cell_type": "markdown",
   "metadata": {},
   "source": [
    "```mongodb\n",
    "mongorestore --db=sample_mflix --collection=movies C:\\Users\\LENOVO\\Downloads\\movies.bson\n",
    "\n",
    "mongorestore --db=sample_mflix --collection=comments C:\\Users\\LENOVO\\Downloads\\comments.bson\n",
    "\n",
    "mongorestore --db=sample_mflix --collection=users C:\\Users\\LENOVO\\Downloads\\users.bson\n",
    "```"
   ]
  },
  {
   "cell_type": "code",
   "execution_count": 10,
   "metadata": {
    "vscode": {
     "languageId": "javascript"
    }
   },
   "outputs": [
    {
     "ename": "SyntaxError",
     "evalue": "invalid syntax (Temp/ipykernel_740/2061792158.py, line 1)",
     "output_type": "error",
     "traceback": [
      "\u001b[1;36m  File \u001b[1;32m\"C:\\Users\\LENOVO\\AppData\\Local\\Temp/ipykernel_740/2061792158.py\"\u001b[1;36m, line \u001b[1;32m1\u001b[0m\n\u001b[1;33m    var pipeline = [\u001b[0m\n\u001b[1;37m        ^\u001b[0m\n\u001b[1;31mSyntaxError\u001b[0m\u001b[1;31m:\u001b[0m invalid syntax\n"
     ]
    }
   ],
   "source": [
    "var pipeline = [     \n",
    "    {$match: {\"released\":{$lte: new ISODate(\"2001-01-01\")}}},\n",
    "    {$group:{\n",
    "        _id: {\"$arrayElemAt\": [\"$genres\", 0]},\n",
    "        \"AvgPopularity\":{$avg:\"$imdb.rating\"},\n",
    "        \"MaxPopularity\":{$max:\"$imdb.rating\"},\n",
    "        \"Longruntime\":{$max:\"$runtime\"}}},\n",
    "    {$sort:{\"AvgPopularity\":-1}},\n",
    "    {$project :\n",
    "        {\n",
    "            _id:1, \n",
    "            AvgPopularity:1,\n",
    "            MaxPopularity:1, \n",
    "            Longruntime:1 , adjusted_runtime:{$add:[\"$Longruntime\", 12]}}}] "
   ]
  },
  {
   "cell_type": "code",
   "execution_count": null,
   "metadata": {
    "vscode": {
     "languageId": "javascript"
    }
   },
   "outputs": [],
   "source": [
    "var pipeline = [\n",
    "    { $match: {\n",
    "        released: {$lte: new ISODate(\"2001-01-01T00:00:00Z\")},\n",
    "        runtime:{$lte:218},\n",
    "        \"imdb.rating\":{$gte:7}}},\n",
    "        \n",
    "    { $sort: { \"imdb.rating\": -1}},\n",
    "    { $group: {\n",
    "        _id: {\"$arrayElemAt\": [\"$genres\", 0]}, \n",
    "        \"recomended_title\":{$first:\"$title\"},\n",
    "        \"recomended_rating\":{$first:\"$imdb.rating\"},\n",
    "        \"recomended_raw_runtime\":{$first:\"$runtime\"},\n",
    "        \"popularity\": { $avg: \"$imdb.rating\"},\n",
    "        \"top_movie\": { $max: \"$imdb.rating\"},\n",
    "        \"longest_runtime\": { $max: \"$runtime\"}\n",
    "    }},\n",
    "    \n",
    "    { $project: \n",
    "        {_id: 1,\n",
    "            popularity: 1,\n",
    "            top_movie: 1,\n",
    "            recomended_title:1,\n",
    "            recomended_rating:1, \n",
    "            recomended_raw_runtime:1,\n",
    "            adjusted_runtime: { $add: [\"$longest_runtime\", 12 ] } } }\n",
    "    ]"
   ]
  },
  {
   "cell_type": "markdown",
   "metadata": {},
   "source": [
    "## Working with Large Datasets"
   ]
  },
  {
   "cell_type": "markdown",
   "metadata": {},
   "source": [
    "Sampling with `$sample`. \n",
    "\n",
    "It's used when we are building an aggregate. Increase the speed\n"
   ]
  },
  {
   "cell_type": "code",
   "execution_count": null,
   "metadata": {
    "vscode": {
     "languageId": "javascript"
    }
   },
   "outputs": [],
   "source": [
    "var findWithSamples = function() {\n",
    "    print(\"Find all document with sampling\")\n",
    "    var now = Date.now();\n",
    "    var pipeline = [\n",
    "        {$sample:{size:100}},\n",
    "        {$match:{plot:{$regex:\".*around.*\"}}}]\n",
    "    \n",
    "    db.movies.aggregate(pipeline)\n",
    "    var duration = Date.now() - now\n",
    "    print(\"Finished with sampling in \" + duration + \" ms\" )\n",
    "    }"
   ]
  },
  {
   "cell_type": "code",
   "execution_count": null,
   "metadata": {
    "vscode": {
     "languageId": "javascript"
    }
   },
   "outputs": [],
   "source": [
    "var findWithoutSamples = function() {\n",
    "    print(\"Find all document without sampling\")\n",
    "    var now = Date.now();\n",
    "    var pipeline = [\n",
    "        {$match:{plot:{$regex:\".*around.*\"}}}]\n",
    "    \n",
    "    db.movies.aggregate(pipeline)\n",
    "    var duration = Date.now() - now\n",
    "    print(\"Finished without sampling in \" + duration + \" ms\" )\n",
    "    }"
   ]
  },
  {
   "cell_type": "markdown",
   "metadata": {},
   "source": [
    "Joining Collections with `$lookup`\n",
    "\n",
    "`$unwind` operator is used with `$lookup` for split the array join in fields."
   ]
  },
  {
   "cell_type": "code",
   "execution_count": null,
   "metadata": {
    "vscode": {
     "languageId": "javascript"
    }
   },
   "outputs": [],
   "source": [
    "var lookupfunction = function(){\n",
    "    var pipeline = [\n",
    "        {$match: { $and: [{\"name\": \"Catelyn Stark\"}, {\"date\":{$gt:new ISODate(\"2016-01-01\")}}]}},\n",
    "        {$lookup: {\n",
    "            from: \"users\",\n",
    "            localField: \"name\", // field of comments collections\n",
    "            foreignField: \"name\", // field of users collections \n",
    "            as: \"users_join\"}}, // the name of the join\n",
    "        { $unwind: \"$users_join\"}\n",
    "        ]\n",
    "    db.comments.aggregate(pipeline).forEach(printjson)\n",
    "}"
   ]
  },
  {
   "cell_type": "markdown",
   "metadata": {},
   "source": [
    "Outputting Your Results with `$out` and `$merge`. This save the output like a collection in the actual database."
   ]
  },
  {
   "cell_type": "code",
   "execution_count": null,
   "metadata": {
    "vscode": {
     "languageId": "javascript"
    }
   },
   "outputs": [],
   "source": [
    "var pipeline = [\n",
    "    {$group: {_id:\"$category\", \"Total\":{$sum:1}}}, \n",
    "    {$project:{_id:1,Total:1}}, \n",
    "    {$out:\"DistributionCategory\"}]\n",
    "\n",
    "db.products.aggregate(pipeline).forEach(printjson);"
   ]
  },
  {
   "cell_type": "markdown",
   "metadata": {},
   "source": [
    "Excercise  7.06"
   ]
  },
  {
   "cell_type": "code",
   "execution_count": null,
   "metadata": {
    "vscode": {
     "languageId": "javascript"
    }
   },
   "outputs": [],
   "source": [
    "var pipeline = [\n",
    "    {$sample:{size:5000}},\n",
    "    {$group:{_id:\"$movie_id\", \"CountComment\":{$sum:1}}}, \n",
    "    {$sort:{\"CountComment\":-1}}, \n",
    "    {$limit:5},\n",
    "    {$project:{_id:1,CountComment:1}},\n",
    "    {$out:\"MostComment\"}]\n",
    "\n",
    "db.comments.aggregate(pipeline).forEach(printjson);\n",
    "\n",
    "var pipeline = [\n",
    "    {$lookup:{from:\"movies\",localField:\"_id\", foreignField:\"_id\", as: \"data_join\"}},\n",
    "    { $unwind: \"$data_join\"},\n",
    "    {$project:{ \"CountComment\":1, \"data_join.imdb.rating\":1, \"data_join.title\":1 }} ]\n",
    "\n",
    "db.MostComment.aggregate(pipeline).forEach(printjson);"
   ]
  },
  {
   "cell_type": "markdown",
   "metadata": {},
   "source": [
    "Aggregation Options"
   ]
  },
  {
   "cell_type": "code",
   "execution_count": null,
   "metadata": {
    "vscode": {
     "languageId": "javascript"
    }
   },
   "outputs": [],
   "source": [
    "var options = {\n",
    "    maxTimeMS: 30000, // Essentially a timeout for your aggregation\n",
    "    allowDiskUse: true, // by setting this option to true, MongoDB can write temporary // files to allow the handling of more data\n",
    "    comment: \"This is a comment of the aggregation\"} //This option is just for debugging and allows a string to be\n",
    "//specified that helps identify this aggregation when parsing database logs\n",
    "db.movies.aggregate(pipeline, options);"
   ]
  },
  {
   "cell_type": "markdown",
   "metadata": {},
   "source": [
    "Exercise 7.06"
   ]
  },
  {
   "cell_type": "code",
   "execution_count": null,
   "metadata": {
    "vscode": {
     "languageId": "javascript"
    }
   },
   "outputs": [],
   "source": [
    "var pipeline = [\n",
    "    {$sample:{size : 1000}},\n",
    "    {$match:{\n",
    "        \"awards.wins\":{$gte:1},\n",
    "        \"released\":{$lte:new ISODate(\"2001-01-01\")}}},\n",
    "    {$sort:{\"awards.nominations\":-1}},\n",
    "    {$group:{\n",
    "        _id:{\"$arrayElemAt\": [\"$genres\", 0]},\n",
    "        \"film_id\": {$first:\"$_id\"},\n",
    "        \"film_title\": {$first:\"$title\"},\n",
    "        \"film_runtime\": {$first:{$sum:[\"$runtime\", 12]}},\n",
    "        \"film_awards\":{$first:\"$awards\"},\n",
    "        \"genre_awards_win\":{$sum:\"$awards.wins\"}\n",
    "    }},\n",
    "    {$lookup:\n",
    "        {\n",
    "            from : \"comments\", \n",
    "            localField:\"film_id\", \n",
    "            foreignField:\"movie_id\",\n",
    "            as:\"comments\"}},\n",
    "\n",
    "    { $unwind: \"$comments\"},\n",
    "    {$sort:{\"genre_awards_win\":-1}},\n",
    "    {$limit:5}\n",
    "]\n",
    "\n",
    "db.movies.aggregate(pipeline);"
   ]
  },
  {
   "cell_type": "code",
   "execution_count": null,
   "metadata": {
    "vscode": {
     "languageId": "javascript"
    }
   },
   "outputs": [],
   "source": [
    "// to change the type variable\n",
    "\n",
    "var change_type = function(obj) {\n",
    "    obj[\"active-price\"] = new NumberInt(obj[\"active-price\"]);\n",
    "    obj[\"old-price\"] = new NumberInt(obj[\"old-price\"]);\n",
    "    obj[\"Code\"] = new NumberInt(obj[\"Code\"]);\n",
    "    db.products.save(obj);\n",
    "}\n",
    "db.products.find().forEach(change_type);"
   ]
  },
  {
   "cell_type": "markdown",
   "metadata": {},
   "source": [
    "\n",
    "# MongoDB and Python"
   ]
  },
  {
   "cell_type": "code",
   "execution_count": 1,
   "metadata": {},
   "outputs": [],
   "source": [
    "from pymongo import MongoClient\n",
    "from pathlib import Path\n",
    "import json"
   ]
  },
  {
   "cell_type": "code",
   "execution_count": null,
   "metadata": {},
   "outputs": [],
   "source": [
    "mongo_uri = \"mongodb://localhost\"\n",
    "client = MongoClient(mongo_uri)\n",
    "\n",
    "db = client['productsdb']\n",
    "collection = db['products']"
   ]
  },
  {
   "cell_type": "code",
   "execution_count": null,
   "metadata": {},
   "outputs": [],
   "source": [
    "path_json = Path(r\"C:\\Users\\LENOVO\\Desktop\\web_scrape_bussiness\\DataPages\")\n",
    "\n",
    "def open_json(name_file):\n",
    "    with open(name_file, 'rb') as reader:\n",
    "        return json.load(reader)\n",
    "\n",
    "data_pages = [open_json(name_file) for name_file in path_json.glob('*.json')]\n",
    "\n",
    "collection.insert_many(data_pages)"
   ]
  },
  {
   "cell_type": "markdown",
   "metadata": {},
   "source": [
    "### Connect with Mongo Datbase in the cloud"
   ]
  },
  {
   "cell_type": "markdown",
   "metadata": {},
   "source": [
    "* Get the "
   ]
  },
  {
   "cell_type": "code",
   "execution_count": 2,
   "metadata": {},
   "outputs": [],
   "source": [
    "from dotenv import dotenv_values\n",
    "\n",
    "config = dotenv_values('.env')\n",
    "\n",
    "client = MongoClient(config.MONGO_URI)"
   ]
  },
  {
   "cell_type": "code",
   "execution_count": 3,
   "metadata": {},
   "outputs": [],
   "source": [
    "db = client['test']\n",
    "collection = db['products']"
   ]
  },
  {
   "cell_type": "code",
   "execution_count": 4,
   "metadata": {},
   "outputs": [
    {
     "data": {
      "text/plain": [
       "<pymongo.results.InsertManyResult at 0x15ad95ecd30>"
      ]
     },
     "execution_count": 4,
     "metadata": {},
     "output_type": "execute_result"
    }
   ],
   "source": [
    "data_pages = [{'name': 'product1', 'price': '100'},{'name': 'product2', 'price': '200'}]\n",
    "collection.insert_many(data_pages)"
   ]
  },
  {
   "cell_type": "code",
   "execution_count": 8,
   "metadata": {},
   "outputs": [
    {
     "name": "stdout",
     "output_type": "stream",
     "text": [
      "{'_id': ObjectId('62cf4bacd72112b7461b1b20'), 'name': 'product1', 'price': '100'}\n",
      "{'_id': ObjectId('62cf4bacd72112b7461b1b21'), 'name': 'product2', 'price': '200', 'category': 'baby'}\n"
     ]
    }
   ],
   "source": [
    "for col in collection.find({}):\n",
    "    print(col)"
   ]
  },
  {
   "cell_type": "code",
   "execution_count": null,
   "metadata": {},
   "outputs": [],
   "source": [
    "# data_users[['CustomerId','Address', 'Age', 'CellPhone']].to_csv('data_users.txt', sep='\\t', index=False)"
   ]
  },
  {
   "cell_type": "code",
   "execution_count": null,
   "metadata": {},
   "outputs": [],
   "source": []
  }
 ],
 "metadata": {
  "interpreter": {
   "hash": "7679c2132d3f6ce38c9df14d554b39c06862b36a4e6689c81f9ae15bd0911d7d"
  },
  "kernelspec": {
   "display_name": "Python 3.9.7 ('base')",
   "language": "python",
   "name": "python3"
  },
  "language_info": {
   "codemirror_mode": {
    "name": "ipython",
    "version": 3
   },
   "file_extension": ".py",
   "mimetype": "text/x-python",
   "name": "python",
   "nbconvert_exporter": "python",
   "pygments_lexer": "ipython3",
   "version": "3.9.7"
  },
  "orig_nbformat": 4
 },
 "nbformat": 4,
 "nbformat_minor": 2
}
